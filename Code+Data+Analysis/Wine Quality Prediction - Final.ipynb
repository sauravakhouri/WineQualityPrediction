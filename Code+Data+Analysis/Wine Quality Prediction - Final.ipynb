{
 "cells": [
  {
   "cell_type": "markdown",
   "metadata": {},
   "source": [
    "Author: Saurav Akhouri\n",
    "\n",
    "Email: sauravakhouri02@gmail.com"
   ]
  },
  {
   "cell_type": "markdown",
   "metadata": {},
   "source": [
    "## Importing Libraries"
   ]
  },
  {
   "cell_type": "code",
   "execution_count": 258,
   "metadata": {
    "ExecuteTime": {
     "end_time": "2021-03-09T14:52:58.694757Z",
     "start_time": "2021-03-09T14:52:58.689769Z"
    }
   },
   "outputs": [],
   "source": [
    "import pandas as pd\n",
    "import numpy as np\n",
    "import matplotlib.pyplot as plt\n",
    "import seaborn as sns\n",
    "from sklearn import metrics\n",
    "from sklearn.model_selection import train_test_split\n",
    "\n",
    "import warnings\n",
    "warnings.filterwarnings('ignore')"
   ]
  },
  {
   "cell_type": "code",
   "execution_count": 259,
   "metadata": {
    "ExecuteTime": {
     "end_time": "2021-03-09T14:52:59.036549Z",
     "start_time": "2021-03-09T14:52:59.006629Z"
    }
   },
   "outputs": [
    {
     "data": {
      "text/html": [
       "<div>\n",
       "<style scoped>\n",
       "    .dataframe tbody tr th:only-of-type {\n",
       "        vertical-align: middle;\n",
       "    }\n",
       "\n",
       "    .dataframe tbody tr th {\n",
       "        vertical-align: top;\n",
       "    }\n",
       "\n",
       "    .dataframe thead th {\n",
       "        text-align: right;\n",
       "    }\n",
       "</style>\n",
       "<table border=\"1\" class=\"dataframe\">\n",
       "  <thead>\n",
       "    <tr style=\"text-align: right;\">\n",
       "      <th></th>\n",
       "      <th>fixed acidity</th>\n",
       "      <th>volatile acidity</th>\n",
       "      <th>citric acid</th>\n",
       "      <th>residual sugar</th>\n",
       "      <th>chlorides</th>\n",
       "      <th>free sulfur dioxide</th>\n",
       "      <th>total sulfur dioxide</th>\n",
       "      <th>density</th>\n",
       "      <th>pH</th>\n",
       "      <th>sulphates</th>\n",
       "      <th>alcohol</th>\n",
       "      <th>quality</th>\n",
       "    </tr>\n",
       "  </thead>\n",
       "  <tbody>\n",
       "    <tr>\n",
       "      <th>0</th>\n",
       "      <td>7.4</td>\n",
       "      <td>0.700</td>\n",
       "      <td>0.00</td>\n",
       "      <td>1.9</td>\n",
       "      <td>0.076</td>\n",
       "      <td>11.0</td>\n",
       "      <td>34.0</td>\n",
       "      <td>0.99780</td>\n",
       "      <td>3.51</td>\n",
       "      <td>0.56</td>\n",
       "      <td>9.4</td>\n",
       "      <td>5</td>\n",
       "    </tr>\n",
       "    <tr>\n",
       "      <th>1</th>\n",
       "      <td>7.8</td>\n",
       "      <td>0.880</td>\n",
       "      <td>0.00</td>\n",
       "      <td>2.6</td>\n",
       "      <td>0.098</td>\n",
       "      <td>25.0</td>\n",
       "      <td>67.0</td>\n",
       "      <td>0.99680</td>\n",
       "      <td>3.20</td>\n",
       "      <td>0.68</td>\n",
       "      <td>9.8</td>\n",
       "      <td>5</td>\n",
       "    </tr>\n",
       "    <tr>\n",
       "      <th>2</th>\n",
       "      <td>7.8</td>\n",
       "      <td>0.760</td>\n",
       "      <td>0.04</td>\n",
       "      <td>2.3</td>\n",
       "      <td>0.092</td>\n",
       "      <td>15.0</td>\n",
       "      <td>54.0</td>\n",
       "      <td>0.99700</td>\n",
       "      <td>3.26</td>\n",
       "      <td>0.65</td>\n",
       "      <td>9.8</td>\n",
       "      <td>5</td>\n",
       "    </tr>\n",
       "    <tr>\n",
       "      <th>3</th>\n",
       "      <td>11.2</td>\n",
       "      <td>0.280</td>\n",
       "      <td>0.56</td>\n",
       "      <td>1.9</td>\n",
       "      <td>0.075</td>\n",
       "      <td>17.0</td>\n",
       "      <td>60.0</td>\n",
       "      <td>0.99800</td>\n",
       "      <td>3.16</td>\n",
       "      <td>0.58</td>\n",
       "      <td>9.8</td>\n",
       "      <td>6</td>\n",
       "    </tr>\n",
       "    <tr>\n",
       "      <th>4</th>\n",
       "      <td>7.4</td>\n",
       "      <td>0.700</td>\n",
       "      <td>0.00</td>\n",
       "      <td>1.9</td>\n",
       "      <td>0.076</td>\n",
       "      <td>11.0</td>\n",
       "      <td>34.0</td>\n",
       "      <td>0.99780</td>\n",
       "      <td>3.51</td>\n",
       "      <td>0.56</td>\n",
       "      <td>9.4</td>\n",
       "      <td>5</td>\n",
       "    </tr>\n",
       "    <tr>\n",
       "      <th>...</th>\n",
       "      <td>...</td>\n",
       "      <td>...</td>\n",
       "      <td>...</td>\n",
       "      <td>...</td>\n",
       "      <td>...</td>\n",
       "      <td>...</td>\n",
       "      <td>...</td>\n",
       "      <td>...</td>\n",
       "      <td>...</td>\n",
       "      <td>...</td>\n",
       "      <td>...</td>\n",
       "      <td>...</td>\n",
       "    </tr>\n",
       "    <tr>\n",
       "      <th>1594</th>\n",
       "      <td>6.2</td>\n",
       "      <td>0.600</td>\n",
       "      <td>0.08</td>\n",
       "      <td>2.0</td>\n",
       "      <td>0.090</td>\n",
       "      <td>32.0</td>\n",
       "      <td>44.0</td>\n",
       "      <td>0.99490</td>\n",
       "      <td>3.45</td>\n",
       "      <td>0.58</td>\n",
       "      <td>10.5</td>\n",
       "      <td>5</td>\n",
       "    </tr>\n",
       "    <tr>\n",
       "      <th>1595</th>\n",
       "      <td>5.9</td>\n",
       "      <td>0.550</td>\n",
       "      <td>0.10</td>\n",
       "      <td>2.2</td>\n",
       "      <td>0.062</td>\n",
       "      <td>39.0</td>\n",
       "      <td>51.0</td>\n",
       "      <td>0.99512</td>\n",
       "      <td>3.52</td>\n",
       "      <td>0.76</td>\n",
       "      <td>11.2</td>\n",
       "      <td>6</td>\n",
       "    </tr>\n",
       "    <tr>\n",
       "      <th>1596</th>\n",
       "      <td>6.3</td>\n",
       "      <td>0.510</td>\n",
       "      <td>0.13</td>\n",
       "      <td>2.3</td>\n",
       "      <td>0.076</td>\n",
       "      <td>29.0</td>\n",
       "      <td>40.0</td>\n",
       "      <td>0.99574</td>\n",
       "      <td>3.42</td>\n",
       "      <td>0.75</td>\n",
       "      <td>11.0</td>\n",
       "      <td>6</td>\n",
       "    </tr>\n",
       "    <tr>\n",
       "      <th>1597</th>\n",
       "      <td>5.9</td>\n",
       "      <td>0.645</td>\n",
       "      <td>0.12</td>\n",
       "      <td>2.0</td>\n",
       "      <td>0.075</td>\n",
       "      <td>32.0</td>\n",
       "      <td>44.0</td>\n",
       "      <td>0.99547</td>\n",
       "      <td>3.57</td>\n",
       "      <td>0.71</td>\n",
       "      <td>10.2</td>\n",
       "      <td>5</td>\n",
       "    </tr>\n",
       "    <tr>\n",
       "      <th>1598</th>\n",
       "      <td>6.0</td>\n",
       "      <td>0.310</td>\n",
       "      <td>0.47</td>\n",
       "      <td>3.6</td>\n",
       "      <td>0.067</td>\n",
       "      <td>18.0</td>\n",
       "      <td>42.0</td>\n",
       "      <td>0.99549</td>\n",
       "      <td>3.39</td>\n",
       "      <td>0.66</td>\n",
       "      <td>11.0</td>\n",
       "      <td>6</td>\n",
       "    </tr>\n",
       "  </tbody>\n",
       "</table>\n",
       "<p>1599 rows × 12 columns</p>\n",
       "</div>"
      ],
      "text/plain": [
       "      fixed acidity  volatile acidity  citric acid  residual sugar  chlorides  \\\n",
       "0               7.4             0.700         0.00             1.9      0.076   \n",
       "1               7.8             0.880         0.00             2.6      0.098   \n",
       "2               7.8             0.760         0.04             2.3      0.092   \n",
       "3              11.2             0.280         0.56             1.9      0.075   \n",
       "4               7.4             0.700         0.00             1.9      0.076   \n",
       "...             ...               ...          ...             ...        ...   \n",
       "1594            6.2             0.600         0.08             2.0      0.090   \n",
       "1595            5.9             0.550         0.10             2.2      0.062   \n",
       "1596            6.3             0.510         0.13             2.3      0.076   \n",
       "1597            5.9             0.645         0.12             2.0      0.075   \n",
       "1598            6.0             0.310         0.47             3.6      0.067   \n",
       "\n",
       "      free sulfur dioxide  total sulfur dioxide  density    pH  sulphates  \\\n",
       "0                    11.0                  34.0  0.99780  3.51       0.56   \n",
       "1                    25.0                  67.0  0.99680  3.20       0.68   \n",
       "2                    15.0                  54.0  0.99700  3.26       0.65   \n",
       "3                    17.0                  60.0  0.99800  3.16       0.58   \n",
       "4                    11.0                  34.0  0.99780  3.51       0.56   \n",
       "...                   ...                   ...      ...   ...        ...   \n",
       "1594                 32.0                  44.0  0.99490  3.45       0.58   \n",
       "1595                 39.0                  51.0  0.99512  3.52       0.76   \n",
       "1596                 29.0                  40.0  0.99574  3.42       0.75   \n",
       "1597                 32.0                  44.0  0.99547  3.57       0.71   \n",
       "1598                 18.0                  42.0  0.99549  3.39       0.66   \n",
       "\n",
       "      alcohol  quality  \n",
       "0         9.4        5  \n",
       "1         9.8        5  \n",
       "2         9.8        5  \n",
       "3         9.8        6  \n",
       "4         9.4        5  \n",
       "...       ...      ...  \n",
       "1594     10.5        5  \n",
       "1595     11.2        6  \n",
       "1596     11.0        6  \n",
       "1597     10.2        5  \n",
       "1598     11.0        6  \n",
       "\n",
       "[1599 rows x 12 columns]"
      ]
     },
     "execution_count": 259,
     "metadata": {},
     "output_type": "execute_result"
    }
   ],
   "source": [
    "WineData=pd.read_csv('QualityPrediction.csv')\n",
    "WineData"
   ]
  },
  {
   "cell_type": "markdown",
   "metadata": {
    "ExecuteTime": {
     "end_time": "2021-02-28T21:27:20.673657Z",
     "start_time": "2021-02-28T21:27:20.669677Z"
    }
   },
   "source": [
    "## Finding Missing Values"
   ]
  },
  {
   "cell_type": "code",
   "execution_count": 260,
   "metadata": {
    "ExecuteTime": {
     "end_time": "2021-03-09T14:52:59.431427Z",
     "start_time": "2021-03-09T14:52:59.422451Z"
    }
   },
   "outputs": [
    {
     "data": {
      "text/plain": [
       "fixed acidity           0\n",
       "volatile acidity        0\n",
       "citric acid             0\n",
       "residual sugar          0\n",
       "chlorides               0\n",
       "free sulfur dioxide     0\n",
       "total sulfur dioxide    0\n",
       "density                 0\n",
       "pH                      0\n",
       "sulphates               0\n",
       "alcohol                 0\n",
       "quality                 0\n",
       "dtype: int64"
      ]
     },
     "execution_count": 260,
     "metadata": {},
     "output_type": "execute_result"
    }
   ],
   "source": [
    "pd.set_option('display.max_rows',20)\n",
    "\n",
    "WineData.isnull().sum()\n",
    "\n",
    "#there are no  missing values"
   ]
  },
  {
   "cell_type": "code",
   "execution_count": null,
   "metadata": {},
   "outputs": [],
   "source": []
  },
  {
   "cell_type": "markdown",
   "metadata": {},
   "source": [
    "## Finding Duplicates"
   ]
  },
  {
   "cell_type": "code",
   "execution_count": 261,
   "metadata": {
    "ExecuteTime": {
     "end_time": "2021-03-09T14:53:00.045879Z",
     "start_time": "2021-03-09T14:53:00.019948Z"
    }
   },
   "outputs": [
    {
     "data": {
      "text/html": [
       "<div>\n",
       "<style scoped>\n",
       "    .dataframe tbody tr th:only-of-type {\n",
       "        vertical-align: middle;\n",
       "    }\n",
       "\n",
       "    .dataframe tbody tr th {\n",
       "        vertical-align: top;\n",
       "    }\n",
       "\n",
       "    .dataframe thead th {\n",
       "        text-align: right;\n",
       "    }\n",
       "</style>\n",
       "<table border=\"1\" class=\"dataframe\">\n",
       "  <thead>\n",
       "    <tr style=\"text-align: right;\">\n",
       "      <th></th>\n",
       "      <th>fixed acidity</th>\n",
       "      <th>volatile acidity</th>\n",
       "      <th>citric acid</th>\n",
       "      <th>residual sugar</th>\n",
       "      <th>chlorides</th>\n",
       "      <th>free sulfur dioxide</th>\n",
       "      <th>total sulfur dioxide</th>\n",
       "      <th>density</th>\n",
       "      <th>pH</th>\n",
       "      <th>sulphates</th>\n",
       "      <th>alcohol</th>\n",
       "      <th>quality</th>\n",
       "    </tr>\n",
       "  </thead>\n",
       "  <tbody>\n",
       "    <tr>\n",
       "      <th>4</th>\n",
       "      <td>7.4</td>\n",
       "      <td>0.700</td>\n",
       "      <td>0.00</td>\n",
       "      <td>1.90</td>\n",
       "      <td>0.076</td>\n",
       "      <td>11.0</td>\n",
       "      <td>34.0</td>\n",
       "      <td>0.99780</td>\n",
       "      <td>3.51</td>\n",
       "      <td>0.56</td>\n",
       "      <td>9.4</td>\n",
       "      <td>5</td>\n",
       "    </tr>\n",
       "    <tr>\n",
       "      <th>11</th>\n",
       "      <td>7.5</td>\n",
       "      <td>0.500</td>\n",
       "      <td>0.36</td>\n",
       "      <td>6.10</td>\n",
       "      <td>0.071</td>\n",
       "      <td>17.0</td>\n",
       "      <td>102.0</td>\n",
       "      <td>0.99780</td>\n",
       "      <td>3.35</td>\n",
       "      <td>0.80</td>\n",
       "      <td>10.5</td>\n",
       "      <td>5</td>\n",
       "    </tr>\n",
       "    <tr>\n",
       "      <th>27</th>\n",
       "      <td>7.9</td>\n",
       "      <td>0.430</td>\n",
       "      <td>0.21</td>\n",
       "      <td>1.60</td>\n",
       "      <td>0.106</td>\n",
       "      <td>10.0</td>\n",
       "      <td>37.0</td>\n",
       "      <td>0.99660</td>\n",
       "      <td>3.17</td>\n",
       "      <td>0.91</td>\n",
       "      <td>9.5</td>\n",
       "      <td>5</td>\n",
       "    </tr>\n",
       "    <tr>\n",
       "      <th>40</th>\n",
       "      <td>7.3</td>\n",
       "      <td>0.450</td>\n",
       "      <td>0.36</td>\n",
       "      <td>5.90</td>\n",
       "      <td>0.074</td>\n",
       "      <td>12.0</td>\n",
       "      <td>87.0</td>\n",
       "      <td>0.99780</td>\n",
       "      <td>3.33</td>\n",
       "      <td>0.83</td>\n",
       "      <td>10.5</td>\n",
       "      <td>5</td>\n",
       "    </tr>\n",
       "    <tr>\n",
       "      <th>65</th>\n",
       "      <td>7.2</td>\n",
       "      <td>0.725</td>\n",
       "      <td>0.05</td>\n",
       "      <td>4.65</td>\n",
       "      <td>0.086</td>\n",
       "      <td>4.0</td>\n",
       "      <td>11.0</td>\n",
       "      <td>0.99620</td>\n",
       "      <td>3.41</td>\n",
       "      <td>0.39</td>\n",
       "      <td>10.9</td>\n",
       "      <td>5</td>\n",
       "    </tr>\n",
       "    <tr>\n",
       "      <th>...</th>\n",
       "      <td>...</td>\n",
       "      <td>...</td>\n",
       "      <td>...</td>\n",
       "      <td>...</td>\n",
       "      <td>...</td>\n",
       "      <td>...</td>\n",
       "      <td>...</td>\n",
       "      <td>...</td>\n",
       "      <td>...</td>\n",
       "      <td>...</td>\n",
       "      <td>...</td>\n",
       "      <td>...</td>\n",
       "    </tr>\n",
       "    <tr>\n",
       "      <th>1563</th>\n",
       "      <td>7.2</td>\n",
       "      <td>0.695</td>\n",
       "      <td>0.13</td>\n",
       "      <td>2.00</td>\n",
       "      <td>0.076</td>\n",
       "      <td>12.0</td>\n",
       "      <td>20.0</td>\n",
       "      <td>0.99546</td>\n",
       "      <td>3.29</td>\n",
       "      <td>0.54</td>\n",
       "      <td>10.1</td>\n",
       "      <td>5</td>\n",
       "    </tr>\n",
       "    <tr>\n",
       "      <th>1564</th>\n",
       "      <td>7.2</td>\n",
       "      <td>0.695</td>\n",
       "      <td>0.13</td>\n",
       "      <td>2.00</td>\n",
       "      <td>0.076</td>\n",
       "      <td>12.0</td>\n",
       "      <td>20.0</td>\n",
       "      <td>0.99546</td>\n",
       "      <td>3.29</td>\n",
       "      <td>0.54</td>\n",
       "      <td>10.1</td>\n",
       "      <td>5</td>\n",
       "    </tr>\n",
       "    <tr>\n",
       "      <th>1567</th>\n",
       "      <td>7.2</td>\n",
       "      <td>0.695</td>\n",
       "      <td>0.13</td>\n",
       "      <td>2.00</td>\n",
       "      <td>0.076</td>\n",
       "      <td>12.0</td>\n",
       "      <td>20.0</td>\n",
       "      <td>0.99546</td>\n",
       "      <td>3.29</td>\n",
       "      <td>0.54</td>\n",
       "      <td>10.1</td>\n",
       "      <td>5</td>\n",
       "    </tr>\n",
       "    <tr>\n",
       "      <th>1581</th>\n",
       "      <td>6.2</td>\n",
       "      <td>0.560</td>\n",
       "      <td>0.09</td>\n",
       "      <td>1.70</td>\n",
       "      <td>0.053</td>\n",
       "      <td>24.0</td>\n",
       "      <td>32.0</td>\n",
       "      <td>0.99402</td>\n",
       "      <td>3.54</td>\n",
       "      <td>0.60</td>\n",
       "      <td>11.3</td>\n",
       "      <td>5</td>\n",
       "    </tr>\n",
       "    <tr>\n",
       "      <th>1596</th>\n",
       "      <td>6.3</td>\n",
       "      <td>0.510</td>\n",
       "      <td>0.13</td>\n",
       "      <td>2.30</td>\n",
       "      <td>0.076</td>\n",
       "      <td>29.0</td>\n",
       "      <td>40.0</td>\n",
       "      <td>0.99574</td>\n",
       "      <td>3.42</td>\n",
       "      <td>0.75</td>\n",
       "      <td>11.0</td>\n",
       "      <td>6</td>\n",
       "    </tr>\n",
       "  </tbody>\n",
       "</table>\n",
       "<p>240 rows × 12 columns</p>\n",
       "</div>"
      ],
      "text/plain": [
       "      fixed acidity  volatile acidity  citric acid  residual sugar  chlorides  \\\n",
       "4               7.4             0.700         0.00            1.90      0.076   \n",
       "11              7.5             0.500         0.36            6.10      0.071   \n",
       "27              7.9             0.430         0.21            1.60      0.106   \n",
       "40              7.3             0.450         0.36            5.90      0.074   \n",
       "65              7.2             0.725         0.05            4.65      0.086   \n",
       "...             ...               ...          ...             ...        ...   \n",
       "1563            7.2             0.695         0.13            2.00      0.076   \n",
       "1564            7.2             0.695         0.13            2.00      0.076   \n",
       "1567            7.2             0.695         0.13            2.00      0.076   \n",
       "1581            6.2             0.560         0.09            1.70      0.053   \n",
       "1596            6.3             0.510         0.13            2.30      0.076   \n",
       "\n",
       "      free sulfur dioxide  total sulfur dioxide  density    pH  sulphates  \\\n",
       "4                    11.0                  34.0  0.99780  3.51       0.56   \n",
       "11                   17.0                 102.0  0.99780  3.35       0.80   \n",
       "27                   10.0                  37.0  0.99660  3.17       0.91   \n",
       "40                   12.0                  87.0  0.99780  3.33       0.83   \n",
       "65                    4.0                  11.0  0.99620  3.41       0.39   \n",
       "...                   ...                   ...      ...   ...        ...   \n",
       "1563                 12.0                  20.0  0.99546  3.29       0.54   \n",
       "1564                 12.0                  20.0  0.99546  3.29       0.54   \n",
       "1567                 12.0                  20.0  0.99546  3.29       0.54   \n",
       "1581                 24.0                  32.0  0.99402  3.54       0.60   \n",
       "1596                 29.0                  40.0  0.99574  3.42       0.75   \n",
       "\n",
       "      alcohol  quality  \n",
       "4         9.4        5  \n",
       "11       10.5        5  \n",
       "27        9.5        5  \n",
       "40       10.5        5  \n",
       "65       10.9        5  \n",
       "...       ...      ...  \n",
       "1563     10.1        5  \n",
       "1564     10.1        5  \n",
       "1567     10.1        5  \n",
       "1581     11.3        5  \n",
       "1596     11.0        6  \n",
       "\n",
       "[240 rows x 12 columns]"
      ]
     },
     "execution_count": 261,
     "metadata": {},
     "output_type": "execute_result"
    }
   ],
   "source": [
    "# pd.set_option('display.max_rows',10)\n",
    "WineData[WineData.duplicated()]\n"
   ]
  },
  {
   "cell_type": "markdown",
   "metadata": {},
   "source": [
    "## Removing Duplicates"
   ]
  },
  {
   "cell_type": "code",
   "execution_count": 262,
   "metadata": {
    "ExecuteTime": {
     "end_time": "2021-03-09T14:53:00.383588Z",
     "start_time": "2021-03-09T14:53:00.371583Z"
    }
   },
   "outputs": [
    {
     "data": {
      "text/plain": [
       "(1359, 12)"
      ]
     },
     "execution_count": 262,
     "metadata": {},
     "output_type": "execute_result"
    }
   ],
   "source": [
    "WineData.drop_duplicates(keep='first',inplace=True)\n",
    "\n",
    "WineData.shape"
   ]
  },
  {
   "cell_type": "code",
   "execution_count": 263,
   "metadata": {
    "ExecuteTime": {
     "end_time": "2021-03-09T14:53:00.541143Z",
     "start_time": "2021-03-09T14:53:00.530160Z"
    }
   },
   "outputs": [
    {
     "data": {
      "text/plain": [
       "0"
      ]
     },
     "execution_count": 263,
     "metadata": {},
     "output_type": "execute_result"
    }
   ],
   "source": [
    "WineData.duplicated().sum()"
   ]
  },
  {
   "cell_type": "code",
   "execution_count": null,
   "metadata": {},
   "outputs": [],
   "source": []
  },
  {
   "cell_type": "markdown",
   "metadata": {},
   "source": [
    "## Exploratory Data Analysis"
   ]
  },
  {
   "cell_type": "markdown",
   "metadata": {},
   "source": [
    "### Checking the datatype"
   ]
  },
  {
   "cell_type": "code",
   "execution_count": 264,
   "metadata": {
    "ExecuteTime": {
     "end_time": "2021-03-09T14:53:01.243850Z",
     "start_time": "2021-03-09T14:53:01.233891Z"
    }
   },
   "outputs": [
    {
     "name": "stdout",
     "output_type": "stream",
     "text": [
      "<class 'pandas.core.frame.DataFrame'>\n",
      "Int64Index: 1359 entries, 0 to 1598\n",
      "Data columns (total 12 columns):\n",
      " #   Column                Non-Null Count  Dtype  \n",
      "---  ------                --------------  -----  \n",
      " 0   fixed acidity         1359 non-null   float64\n",
      " 1   volatile acidity      1359 non-null   float64\n",
      " 2   citric acid           1359 non-null   float64\n",
      " 3   residual sugar        1359 non-null   float64\n",
      " 4   chlorides             1359 non-null   float64\n",
      " 5   free sulfur dioxide   1359 non-null   float64\n",
      " 6   total sulfur dioxide  1359 non-null   float64\n",
      " 7   density               1359 non-null   float64\n",
      " 8   pH                    1359 non-null   float64\n",
      " 9   sulphates             1359 non-null   float64\n",
      " 10  alcohol               1359 non-null   float64\n",
      " 11  quality               1359 non-null   int64  \n",
      "dtypes: float64(11), int64(1)\n",
      "memory usage: 138.0 KB\n"
     ]
    }
   ],
   "source": [
    "WineData.info()"
   ]
  },
  {
   "cell_type": "code",
   "execution_count": null,
   "metadata": {},
   "outputs": [],
   "source": []
  },
  {
   "cell_type": "markdown",
   "metadata": {},
   "source": [
    "### Correlation"
   ]
  },
  {
   "cell_type": "code",
   "execution_count": 265,
   "metadata": {
    "ExecuteTime": {
     "end_time": "2021-03-09T14:53:02.727563Z",
     "start_time": "2021-03-09T14:53:01.857889Z"
    }
   },
   "outputs": [
    {
     "data": {
      "text/plain": [
       "<matplotlib.axes._subplots.AxesSubplot at 0x1826d2ab3d0>"
      ]
     },
     "execution_count": 265,
     "metadata": {},
     "output_type": "execute_result"
    },
    {
     "data": {
      "image/png": "[encoded data removed]",
      "text/plain": [
       "<Figure size 864x576 with 2 Axes>"
      ]
     },
     "metadata": {
      "needs_background": "light"
     },
     "output_type": "display_data"
    }
   ],
   "source": [
    "plt.subplots(figsize=(12,8))\n",
    "sns.heatmap(WineData.corr(),annot=True, square=True,cmap='coolwarm')\n",
    "\n",
    "\n",
    "# we don't see a very drastic correlation between  target and independent variable\n"
   ]
  },
  {
   "cell_type": "code",
   "execution_count": 266,
   "metadata": {
    "ExecuteTime": {
     "end_time": "2021-03-09T14:53:02.742523Z",
     "start_time": "2021-03-09T14:53:02.730555Z"
    }
   },
   "outputs": [
    {
     "data": {
      "text/plain": [
       "quality                 1.000000\n",
       "alcohol                 0.480343\n",
       "sulphates               0.248835\n",
       "citric acid             0.228057\n",
       "fixed acidity           0.119024\n",
       "residual sugar          0.013640\n",
       "free sulfur dioxide    -0.050463\n",
       "pH                     -0.055245\n",
       "chlorides              -0.130988\n",
       "total sulfur dioxide   -0.177855\n",
       "density                -0.184252\n",
       "volatile acidity       -0.395214\n",
       "Name: quality, dtype: float64"
      ]
     },
     "execution_count": 266,
     "metadata": {},
     "output_type": "execute_result"
    }
   ],
   "source": [
    "# sorting the independent variables as per their correlation with wine quality \n",
    "\n",
    "correlation=WineData.corr()\n",
    "correlation['quality'].sort_values(ascending=False)"
   ]
  },
  {
   "cell_type": "markdown",
   "metadata": {},
   "source": [
    "### Checking the Mean of Data"
   ]
  },
  {
   "cell_type": "code",
   "execution_count": 267,
   "metadata": {
    "ExecuteTime": {
     "end_time": "2021-03-09T14:53:02.753494Z",
     "start_time": "2021-03-09T14:53:02.745516Z"
    }
   },
   "outputs": [
    {
     "data": {
      "text/plain": [
       "fixed acidity            8.310596\n",
       "volatile acidity         0.529478\n",
       "citric acid              0.272333\n",
       "residual sugar           2.523400\n",
       "chlorides                0.088124\n",
       "free sulfur dioxide     15.893304\n",
       "total sulfur dioxide    46.825975\n",
       "density                  0.996709\n",
       "pH                       3.309787\n",
       "sulphates                0.658705\n",
       "alcohol                 10.432315\n",
       "quality                  5.623252\n",
       "dtype: float64"
      ]
     },
     "execution_count": 267,
     "metadata": {},
     "output_type": "execute_result"
    }
   ],
   "source": [
    "pd.set_option('display.max_rows',20)\n",
    "\n",
    "WineData.mean()"
   ]
  },
  {
   "cell_type": "code",
   "execution_count": null,
   "metadata": {
    "ExecuteTime": {
     "end_time": "2021-03-03T09:24:23.693551Z",
     "start_time": "2021-03-03T09:24:22.023909Z"
    }
   },
   "outputs": [],
   "source": []
  },
  {
   "cell_type": "markdown",
   "metadata": {
    "ExecuteTime": {
     "end_time": "2021-03-03T10:47:51.000115Z",
     "start_time": "2021-03-03T10:47:50.983151Z"
    }
   },
   "source": [
    "### Distribution Plot"
   ]
  },
  {
   "cell_type": "code",
   "execution_count": 268,
   "metadata": {
    "ExecuteTime": {
     "end_time": "2021-03-09T14:53:05.856772Z",
     "start_time": "2021-03-09T14:53:03.173946Z"
    }
   },
   "outputs": [
    {
     "data": {
      "image/png": "[encoded data removed]",
      "text/plain": [
       "<Figure size 1440x720 with 12 Axes>"
      ]
     },
     "metadata": {
      "needs_background": "light"
     },
     "output_type": "display_data"
    }
   ],
   "source": [
    "fig,ax=plt.subplots(ncols=6,nrows=2,figsize=(20,10))\n",
    "index=0\n",
    "ax=ax.flatten()\n",
    "\n",
    "for col,value in WineData.items():\n",
    "    sns.distplot(value,ax=ax[index])\n",
    "    index+=1\n",
    "\n",
    "plt.tight_layout(pad=0.5,w_pad=0.7,h_pad=5.0)\n",
    "\n",
    "# using the histogram we can see that we have some columns that are skewed and some normally distributed fileds as well"
   ]
  },
  {
   "cell_type": "code",
   "execution_count": null,
   "metadata": {},
   "outputs": [],
   "source": []
  },
  {
   "cell_type": "markdown",
   "metadata": {},
   "source": [
    "## Finding and Removing Outliers"
   ]
  },
  {
   "cell_type": "markdown",
   "metadata": {},
   "source": [
    "#### Box Plot"
   ]
  },
  {
   "cell_type": "code",
   "execution_count": 269,
   "metadata": {
    "ExecuteTime": {
     "end_time": "2021-03-09T14:53:07.394663Z",
     "start_time": "2021-03-09T14:53:05.859764Z"
    }
   },
   "outputs": [
    {
     "data": {
      "image/png": "[encoded data removed]",
      "text/plain": [
       "<Figure size 1440x720 with 12 Axes>"
      ]
     },
     "metadata": {
      "needs_background": "light"
     },
     "output_type": "display_data"
    }
   ],
   "source": [
    "fig,ax=plt.subplots(ncols=6,nrows=2,figsize=(20,10))\n",
    "index=0\n",
    "ax=ax.flatten()\n",
    "\n",
    "for col,value in WineData.items(): \n",
    "    sns.boxplot(y=col,data=WineData,ax=ax[index])\n",
    "    index+=1\n",
    "\n",
    "plt.tight_layout(pad=0.5,w_pad=0.7,h_pad=5.0)\n",
    "\n",
    "#using the box plot we can see that there are outliers in the data"
   ]
  },
  {
   "cell_type": "markdown",
   "metadata": {},
   "source": [
    "### Removing outliers "
   ]
  },
  {
   "cell_type": "code",
   "execution_count": 270,
   "metadata": {
    "ExecuteTime": {
     "end_time": "2021-03-09T14:53:07.404640Z",
     "start_time": "2021-03-09T14:53:07.397651Z"
    }
   },
   "outputs": [],
   "source": [
    "#defining a function to identify the upper and lower range for outliers i.e +- 1.5 IQR \n",
    "\n",
    "def OutlierRange(Feature):\n",
    "    Q1=np.percentile(Feature,[25], interpolation='midpoint',)\n",
    "    Q3=np.percentile(Feature,[75],interpolation='midpoint')\n",
    "    IQR=Q3-Q1\n",
    "    IQR1_5 = 1.5 * IQR\n",
    "    Upper_Range = Q3+IQR1_5\n",
    "    Lower_Range = Q1 - IQR1_5\n",
    "    return Upper_Range, Lower_Range\n"
   ]
  },
  {
   "cell_type": "code",
   "execution_count": 271,
   "metadata": {
    "ExecuteTime": {
     "end_time": "2021-03-09T14:53:07.414606Z",
     "start_time": "2021-03-09T14:53:07.407626Z"
    }
   },
   "outputs": [],
   "source": [
    "# defining a function to drop the outliers from the respected fields\n",
    "\n",
    "def DropOutlier(Feature,Upper_Range,Lower_Range):\n",
    "    WineData.drop(WineData[Feature> Upper_Range[0]].index,axis=0,inplace=True)\n",
    "    WineData.drop(WineData[Feature<Lower_Range[0]].index,axis=0,inplace=True)"
   ]
  },
  {
   "cell_type": "code",
   "execution_count": 272,
   "metadata": {
    "ExecuteTime": {
     "end_time": "2021-03-09T14:53:07.473449Z",
     "start_time": "2021-03-09T14:53:07.419594Z"
    }
   },
   "outputs": [
    {
     "data": {
      "text/html": [
       "<div>\n",
       "<style scoped>\n",
       "    .dataframe tbody tr th:only-of-type {\n",
       "        vertical-align: middle;\n",
       "    }\n",
       "\n",
       "    .dataframe tbody tr th {\n",
       "        vertical-align: top;\n",
       "    }\n",
       "\n",
       "    .dataframe thead th {\n",
       "        text-align: right;\n",
       "    }\n",
       "</style>\n",
       "<table border=\"1\" class=\"dataframe\">\n",
       "  <thead>\n",
       "    <tr style=\"text-align: right;\">\n",
       "      <th></th>\n",
       "      <th>fixed acidity</th>\n",
       "      <th>volatile acidity</th>\n",
       "      <th>citric acid</th>\n",
       "      <th>residual sugar</th>\n",
       "      <th>chlorides</th>\n",
       "      <th>free sulfur dioxide</th>\n",
       "      <th>total sulfur dioxide</th>\n",
       "      <th>density</th>\n",
       "      <th>pH</th>\n",
       "      <th>sulphates</th>\n",
       "      <th>alcohol</th>\n",
       "      <th>quality</th>\n",
       "    </tr>\n",
       "  </thead>\n",
       "  <tbody>\n",
       "    <tr>\n",
       "      <th>count</th>\n",
       "      <td>1359.000000</td>\n",
       "      <td>1359.000000</td>\n",
       "      <td>1359.000000</td>\n",
       "      <td>1359.000000</td>\n",
       "      <td>1359.000000</td>\n",
       "      <td>1359.000000</td>\n",
       "      <td>1359.000000</td>\n",
       "      <td>1359.000000</td>\n",
       "      <td>1359.000000</td>\n",
       "      <td>1359.000000</td>\n",
       "      <td>1359.000000</td>\n",
       "      <td>1359.000000</td>\n",
       "    </tr>\n",
       "    <tr>\n",
       "      <th>mean</th>\n",
       "      <td>8.310596</td>\n",
       "      <td>0.529478</td>\n",
       "      <td>0.272333</td>\n",
       "      <td>2.523400</td>\n",
       "      <td>0.088124</td>\n",
       "      <td>15.893304</td>\n",
       "      <td>46.825975</td>\n",
       "      <td>0.996709</td>\n",
       "      <td>3.309787</td>\n",
       "      <td>0.658705</td>\n",
       "      <td>10.432315</td>\n",
       "      <td>5.623252</td>\n",
       "    </tr>\n",
       "    <tr>\n",
       "      <th>std</th>\n",
       "      <td>1.736990</td>\n",
       "      <td>0.183031</td>\n",
       "      <td>0.195537</td>\n",
       "      <td>1.352314</td>\n",
       "      <td>0.049377</td>\n",
       "      <td>10.447270</td>\n",
       "      <td>33.408946</td>\n",
       "      <td>0.001869</td>\n",
       "      <td>0.155036</td>\n",
       "      <td>0.170667</td>\n",
       "      <td>1.082065</td>\n",
       "      <td>0.823578</td>\n",
       "    </tr>\n",
       "    <tr>\n",
       "      <th>min</th>\n",
       "      <td>4.600000</td>\n",
       "      <td>0.120000</td>\n",
       "      <td>0.000000</td>\n",
       "      <td>0.900000</td>\n",
       "      <td>0.012000</td>\n",
       "      <td>1.000000</td>\n",
       "      <td>6.000000</td>\n",
       "      <td>0.990070</td>\n",
       "      <td>2.740000</td>\n",
       "      <td>0.330000</td>\n",
       "      <td>8.400000</td>\n",
       "      <td>3.000000</td>\n",
       "    </tr>\n",
       "    <tr>\n",
       "      <th>25%</th>\n",
       "      <td>7.100000</td>\n",
       "      <td>0.390000</td>\n",
       "      <td>0.090000</td>\n",
       "      <td>1.900000</td>\n",
       "      <td>0.070000</td>\n",
       "      <td>7.000000</td>\n",
       "      <td>22.000000</td>\n",
       "      <td>0.995600</td>\n",
       "      <td>3.210000</td>\n",
       "      <td>0.550000</td>\n",
       "      <td>9.500000</td>\n",
       "      <td>5.000000</td>\n",
       "    </tr>\n",
       "    <tr>\n",
       "      <th>50%</th>\n",
       "      <td>7.900000</td>\n",
       "      <td>0.520000</td>\n",
       "      <td>0.260000</td>\n",
       "      <td>2.200000</td>\n",
       "      <td>0.079000</td>\n",
       "      <td>14.000000</td>\n",
       "      <td>38.000000</td>\n",
       "      <td>0.996700</td>\n",
       "      <td>3.310000</td>\n",
       "      <td>0.620000</td>\n",
       "      <td>10.200000</td>\n",
       "      <td>6.000000</td>\n",
       "    </tr>\n",
       "    <tr>\n",
       "      <th>75%</th>\n",
       "      <td>9.200000</td>\n",
       "      <td>0.640000</td>\n",
       "      <td>0.430000</td>\n",
       "      <td>2.600000</td>\n",
       "      <td>0.091000</td>\n",
       "      <td>21.000000</td>\n",
       "      <td>63.000000</td>\n",
       "      <td>0.997820</td>\n",
       "      <td>3.400000</td>\n",
       "      <td>0.730000</td>\n",
       "      <td>11.100000</td>\n",
       "      <td>6.000000</td>\n",
       "    </tr>\n",
       "    <tr>\n",
       "      <th>max</th>\n",
       "      <td>15.900000</td>\n",
       "      <td>1.580000</td>\n",
       "      <td>1.000000</td>\n",
       "      <td>15.500000</td>\n",
       "      <td>0.611000</td>\n",
       "      <td>72.000000</td>\n",
       "      <td>289.000000</td>\n",
       "      <td>1.003690</td>\n",
       "      <td>4.010000</td>\n",
       "      <td>2.000000</td>\n",
       "      <td>14.900000</td>\n",
       "      <td>8.000000</td>\n",
       "    </tr>\n",
       "  </tbody>\n",
       "</table>\n",
       "</div>"
      ],
      "text/plain": [
       "       fixed acidity  volatile acidity  citric acid  residual sugar  \\\n",
       "count    1359.000000       1359.000000  1359.000000     1359.000000   \n",
       "mean        8.310596          0.529478     0.272333        2.523400   \n",
       "std         1.736990          0.183031     0.195537        1.352314   \n",
       "min         4.600000          0.120000     0.000000        0.900000   \n",
       "25%         7.100000          0.390000     0.090000        1.900000   \n",
       "50%         7.900000          0.520000     0.260000        2.200000   \n",
       "75%         9.200000          0.640000     0.430000        2.600000   \n",
       "max        15.900000          1.580000     1.000000       15.500000   \n",
       "\n",
       "         chlorides  free sulfur dioxide  total sulfur dioxide      density  \\\n",
       "count  1359.000000          1359.000000           1359.000000  1359.000000   \n",
       "mean      0.088124            15.893304             46.825975     0.996709   \n",
       "std       0.049377            10.447270             33.408946     0.001869   \n",
       "min       0.012000             1.000000              6.000000     0.990070   \n",
       "25%       0.070000             7.000000             22.000000     0.995600   \n",
       "50%       0.079000            14.000000             38.000000     0.996700   \n",
       "75%       0.091000            21.000000             63.000000     0.997820   \n",
       "max       0.611000            72.000000            289.000000     1.003690   \n",
       "\n",
       "                pH    sulphates      alcohol      quality  \n",
       "count  1359.000000  1359.000000  1359.000000  1359.000000  \n",
       "mean      3.309787     0.658705    10.432315     5.623252  \n",
       "std       0.155036     0.170667     1.082065     0.823578  \n",
       "min       2.740000     0.330000     8.400000     3.000000  \n",
       "25%       3.210000     0.550000     9.500000     5.000000  \n",
       "50%       3.310000     0.620000    10.200000     6.000000  \n",
       "75%       3.400000     0.730000    11.100000     6.000000  \n",
       "max       4.010000     2.000000    14.900000     8.000000  "
      ]
     },
     "execution_count": 272,
     "metadata": {},
     "output_type": "execute_result"
    }
   ],
   "source": [
    "WineData.describe()"
   ]
  },
  {
   "cell_type": "code",
   "execution_count": 273,
   "metadata": {
    "ExecuteTime": {
     "end_time": "2021-03-09T14:53:07.484420Z",
     "start_time": "2021-03-09T14:53:07.475444Z"
    }
   },
   "outputs": [
    {
     "name": "stdout",
     "output_type": "stream",
     "text": [
      "fixed acidity\n",
      "volatile acidity\n",
      "citric acid\n",
      "residual sugar\n",
      "chlorides\n",
      "free sulfur dioxide\n",
      "total sulfur dioxide\n",
      "density\n",
      "pH\n",
      "sulphates\n",
      "alcohol\n"
     ]
    }
   ],
   "source": [
    "for col,val in WineData.items():\n",
    "    if col != 'quality':\n",
    "        print(col)"
   ]
  },
  {
   "cell_type": "code",
   "execution_count": 274,
   "metadata": {
    "ExecuteTime": {
     "end_time": "2021-03-09T14:53:07.500377Z",
     "start_time": "2021-03-09T14:53:07.488409Z"
    }
   },
   "outputs": [],
   "source": [
    "Feature=WineData['fixed acidity']\n",
    "\n",
    "Upper_Range,Lower_Range=OutlierRange(Feature)\n",
    "DropOutlier(Feature,Upper_Range,Lower_Range)\n"
   ]
  },
  {
   "cell_type": "code",
   "execution_count": 275,
   "metadata": {
    "ExecuteTime": {
     "end_time": "2021-03-09T14:53:07.514339Z",
     "start_time": "2021-03-09T14:53:07.503370Z"
    }
   },
   "outputs": [],
   "source": [
    "Feature=WineData['volatile acidity']\n",
    "\n",
    "Upper_Range,Lower_Range=OutlierRange(Feature)\n",
    "DropOutlier(Feature,Upper_Range,Lower_Range)"
   ]
  },
  {
   "cell_type": "code",
   "execution_count": 276,
   "metadata": {
    "ExecuteTime": {
     "end_time": "2021-03-09T14:53:07.526309Z",
     "start_time": "2021-03-09T14:53:07.516335Z"
    }
   },
   "outputs": [],
   "source": [
    "Feature=WineData['citric acid']\n",
    "\n",
    "Upper_Range,Lower_Range=OutlierRange(Feature)\n",
    "DropOutlier(Feature,Upper_Range,Lower_Range)"
   ]
  },
  {
   "cell_type": "code",
   "execution_count": 277,
   "metadata": {
    "ExecuteTime": {
     "end_time": "2021-03-09T14:53:07.544260Z",
     "start_time": "2021-03-09T14:53:07.533289Z"
    }
   },
   "outputs": [],
   "source": [
    "Feature=WineData['residual sugar']\n",
    "Upper_Range,Lower_Range=OutlierRange(Feature)\n",
    "DropOutlier(Feature,Upper_Range,Lower_Range)"
   ]
  },
  {
   "cell_type": "code",
   "execution_count": 278,
   "metadata": {
    "ExecuteTime": {
     "end_time": "2021-03-09T14:53:07.707822Z",
     "start_time": "2021-03-09T14:53:07.697849Z"
    }
   },
   "outputs": [],
   "source": [
    "Feature=WineData['chlorides']\n",
    "Upper_Range,Lower_Range=OutlierRange(Feature)\n",
    "DropOutlier(Feature,Upper_Range,Lower_Range)"
   ]
  },
  {
   "cell_type": "code",
   "execution_count": 279,
   "metadata": {
    "ExecuteTime": {
     "end_time": "2021-03-09T14:53:07.907363Z",
     "start_time": "2021-03-09T14:53:07.897402Z"
    }
   },
   "outputs": [],
   "source": [
    "Feature=WineData['free sulfur dioxide']\n",
    "\n",
    "Upper_Range,Lower_Range=OutlierRange(Feature)\n",
    "DropOutlier(Feature,Upper_Range,Lower_Range)\n"
   ]
  },
  {
   "cell_type": "code",
   "execution_count": 280,
   "metadata": {
    "ExecuteTime": {
     "end_time": "2021-03-09T14:53:08.290426Z",
     "start_time": "2021-03-09T14:53:08.279414Z"
    }
   },
   "outputs": [],
   "source": [
    "Feature=WineData['total sulfur dioxide']\n",
    "Upper_Range,Lower_Range=OutlierRange(Feature)\n",
    "DropOutlier(Feature,Upper_Range,Lower_Range)"
   ]
  },
  {
   "cell_type": "code",
   "execution_count": 281,
   "metadata": {
    "ExecuteTime": {
     "end_time": "2021-03-09T14:53:08.513788Z",
     "start_time": "2021-03-09T14:53:08.504811Z"
    }
   },
   "outputs": [],
   "source": [
    "Feature=WineData['density']\n",
    "Upper_Range,Lower_Range=OutlierRange(Feature)\n",
    "DropOutlier(Feature,Upper_Range,Lower_Range)"
   ]
  },
  {
   "cell_type": "code",
   "execution_count": 282,
   "metadata": {
    "ExecuteTime": {
     "end_time": "2021-03-09T14:53:08.765154Z",
     "start_time": "2021-03-09T14:53:08.755181Z"
    }
   },
   "outputs": [],
   "source": [
    "Feature=WineData['pH']\n",
    "Upper_Range,Lower_Range=OutlierRange(Feature)\n",
    "DropOutlier(Feature,Upper_Range,Lower_Range)"
   ]
  },
  {
   "cell_type": "code",
   "execution_count": 283,
   "metadata": {
    "ExecuteTime": {
     "end_time": "2021-03-09T14:53:09.336388Z",
     "start_time": "2021-03-09T14:53:09.327411Z"
    }
   },
   "outputs": [],
   "source": [
    "Feature=WineData['sulphates']\n",
    "Upper_Range,Lower_Range=OutlierRange(Feature)\n",
    "DropOutlier(Feature,Upper_Range,Lower_Range)"
   ]
  },
  {
   "cell_type": "code",
   "execution_count": 284,
   "metadata": {
    "ExecuteTime": {
     "end_time": "2021-03-09T14:53:09.530751Z",
     "start_time": "2021-03-09T14:53:09.520778Z"
    }
   },
   "outputs": [],
   "source": [
    "Feature=WineData['alcohol']\n",
    "Upper_Range,Lower_Range=OutlierRange(Feature)\n",
    "DropOutlier(Feature,Upper_Range,Lower_Range)"
   ]
  },
  {
   "cell_type": "markdown",
   "metadata": {},
   "source": [
    "### Boxplots after removing Outliers"
   ]
  },
  {
   "cell_type": "code",
   "execution_count": 285,
   "metadata": {
    "ExecuteTime": {
     "end_time": "2021-03-09T14:53:12.099816Z",
     "start_time": "2021-03-09T14:53:10.753402Z"
    }
   },
   "outputs": [
    {
     "data": {
      "image/png": "[encoded data removed]",
      "text/plain": [
       "<Figure size 1440x720 with 12 Axes>"
      ]
     },
     "metadata": {
      "needs_background": "light"
     },
     "output_type": "display_data"
    }
   ],
   "source": [
    "fig,ax=plt.subplots(ncols=6,nrows=2,figsize=(20,10))\n",
    "index=0\n",
    "ax=ax.flatten()\n",
    "\n",
    "for col,value in WineData.items(): \n",
    "    sns.boxplot(y=col,data=WineData,ax=ax[index])\n",
    "    index+=1\n",
    "\n",
    "plt.tight_layout(pad=0.5,w_pad=0.7,h_pad=5.0)"
   ]
  },
  {
   "cell_type": "code",
   "execution_count": null,
   "metadata": {},
   "outputs": [],
   "source": []
  },
  {
   "cell_type": "markdown",
   "metadata": {
    "ExecuteTime": {
     "end_time": "2021-03-03T11:28:44.801713Z",
     "start_time": "2021-03-03T11:28:44.791740Z"
    }
   },
   "source": [
    "### Checking how the samples for each category of quality is taken"
   ]
  },
  {
   "cell_type": "code",
   "execution_count": 286,
   "metadata": {
    "ExecuteTime": {
     "end_time": "2021-03-09T14:53:13.006776Z",
     "start_time": "2021-03-09T14:53:12.998798Z"
    }
   },
   "outputs": [
    {
     "data": {
      "text/plain": [
       "5    415\n",
       "6    411\n",
       "7    116\n",
       "4     32\n",
       "8      9\n",
       "3      2\n",
       "Name: quality, dtype: int64"
      ]
     },
     "execution_count": 286,
     "metadata": {},
     "output_type": "execute_result"
    }
   ],
   "source": [
    "WineData['quality'].value_counts()"
   ]
  },
  {
   "cell_type": "code",
   "execution_count": 287,
   "metadata": {
    "ExecuteTime": {
     "end_time": "2021-03-09T14:53:14.039334Z",
     "start_time": "2021-03-09T14:53:13.901694Z"
    }
   },
   "outputs": [
    {
     "data": {
      "image/png": "[encoded data removed]",
      "text/plain": [
       "<Figure size 432x288 with 1 Axes>"
      ]
     },
     "metadata": {
      "needs_background": "light"
     },
     "output_type": "display_data"
    }
   ],
   "source": [
    "sns.countplot(WineData['quality'])\n",
    "plt.show()\n",
    "\n",
    "# the data in quality field is in range of 3 to 8\n",
    "\n",
    "# Also this shows most of the samples are for the quality 5,6,7 hence there is a class imbalance\n",
    "\n",
    "# Hence we will need to balance the class with oversampling\n"
   ]
  },
  {
   "cell_type": "code",
   "execution_count": null,
   "metadata": {
    "ExecuteTime": {
     "end_time": "2021-03-09T12:47:12.947559Z",
     "start_time": "2021-03-09T12:47:12.939558Z"
    }
   },
   "outputs": [],
   "source": []
  },
  {
   "cell_type": "code",
   "execution_count": null,
   "metadata": {},
   "outputs": [],
   "source": []
  },
  {
   "cell_type": "markdown",
   "metadata": {},
   "source": [
    "## Splitting Data into X and Y variables"
   ]
  },
  {
   "cell_type": "code",
   "execution_count": 288,
   "metadata": {
    "ExecuteTime": {
     "end_time": "2021-03-09T14:53:15.895465Z",
     "start_time": "2021-03-09T14:53:15.889481Z"
    }
   },
   "outputs": [],
   "source": [
    "X=WineData.drop(['quality','pH','residual sugar','density'],axis=1)\n",
    "Y=WineData['quality']"
   ]
  },
  {
   "cell_type": "code",
   "execution_count": 289,
   "metadata": {
    "ExecuteTime": {
     "end_time": "2021-03-09T14:53:16.277569Z",
     "start_time": "2021-03-09T14:53:16.271585Z"
    }
   },
   "outputs": [
    {
     "data": {
      "text/plain": [
       "(985,)"
      ]
     },
     "execution_count": 289,
     "metadata": {},
     "output_type": "execute_result"
    }
   ],
   "source": [
    "Y.shape"
   ]
  },
  {
   "cell_type": "markdown",
   "metadata": {},
   "source": [
    "## Balancing the class by over sampling"
   ]
  },
  {
   "cell_type": "code",
   "execution_count": 290,
   "metadata": {
    "ExecuteTime": {
     "end_time": "2021-03-09T14:53:18.269835Z",
     "start_time": "2021-03-09T14:53:18.262825Z"
    }
   },
   "outputs": [
    {
     "data": {
      "text/plain": [
       "5    415\n",
       "6    411\n",
       "7    116\n",
       "4     32\n",
       "8      9\n",
       "3      2\n",
       "Name: quality, dtype: int64"
      ]
     },
     "execution_count": 290,
     "metadata": {},
     "output_type": "execute_result"
    }
   ],
   "source": [
    "Y.value_counts()"
   ]
  },
  {
   "cell_type": "code",
   "execution_count": 291,
   "metadata": {
    "ExecuteTime": {
     "end_time": "2021-03-09T14:53:18.690204Z",
     "start_time": "2021-03-09T14:53:18.671254Z"
    }
   },
   "outputs": [],
   "source": [
    "from imblearn.over_sampling import SMOTE\n",
    "oversample = SMOTE(k_neighbors=1)\n",
    "# transform the dataset\n",
    "X, Y = oversample.fit_resample(X, Y)\n"
   ]
  },
  {
   "cell_type": "code",
   "execution_count": 292,
   "metadata": {
    "ExecuteTime": {
     "end_time": "2021-03-09T14:53:19.194241Z",
     "start_time": "2021-03-09T14:53:19.187286Z"
    }
   },
   "outputs": [
    {
     "data": {
      "text/plain": [
       "7    415\n",
       "5    415\n",
       "3    415\n",
       "8    415\n",
       "6    415\n",
       "4    415\n",
       "Name: quality, dtype: int64"
      ]
     },
     "execution_count": 292,
     "metadata": {},
     "output_type": "execute_result"
    }
   ],
   "source": [
    "Y.value_counts()"
   ]
  },
  {
   "cell_type": "code",
   "execution_count": null,
   "metadata": {
    "ExecuteTime": {
     "end_time": "2021-03-09T12:45:38.223585Z",
     "start_time": "2021-03-09T12:45:38.219613Z"
    }
   },
   "outputs": [],
   "source": []
  },
  {
   "cell_type": "markdown",
   "metadata": {},
   "source": [
    "## Splitting Data into Train and Test Split"
   ]
  },
  {
   "cell_type": "code",
   "execution_count": 293,
   "metadata": {
    "ExecuteTime": {
     "end_time": "2021-03-09T14:53:20.559235Z",
     "start_time": "2021-03-09T14:53:20.552281Z"
    }
   },
   "outputs": [],
   "source": [
    "X_train,X_test,Y_train,Y_test=train_test_split(X,Y,test_size=0.2,random_state=10)"
   ]
  },
  {
   "cell_type": "code",
   "execution_count": null,
   "metadata": {},
   "outputs": [],
   "source": []
  },
  {
   "cell_type": "markdown",
   "metadata": {},
   "source": [
    "## Feature Scaling"
   ]
  },
  {
   "cell_type": "code",
   "execution_count": 294,
   "metadata": {
    "ExecuteTime": {
     "end_time": "2021-03-09T14:53:22.049032Z",
     "start_time": "2021-03-09T14:53:22.038058Z"
    }
   },
   "outputs": [],
   "source": [
    "from sklearn.preprocessing import StandardScaler\n",
    "\n",
    "StandardScaler=StandardScaler()\n",
    "X_train=StandardScaler.fit_transform(X_train)\n",
    "X_test=StandardScaler.transform(X_test)"
   ]
  },
  {
   "cell_type": "code",
   "execution_count": null,
   "metadata": {},
   "outputs": [],
   "source": []
  },
  {
   "cell_type": "markdown",
   "metadata": {},
   "source": [
    "## Model Training"
   ]
  },
  {
   "cell_type": "code",
   "execution_count": 295,
   "metadata": {
    "ExecuteTime": {
     "end_time": "2021-03-09T14:53:23.672032Z",
     "start_time": "2021-03-09T14:53:23.664055Z"
    }
   },
   "outputs": [],
   "source": [
    "#creating a function to pass different Classification models and then choose the best\n",
    "\n",
    "from sklearn.model_selection import cross_val_score\n",
    "\n",
    "def Classifier(model,X_train,Y_train,X_test,Y_test):\n",
    "    model.fit(X_train,Y_train)\n",
    "    Y_pred=model.predict(X_test)\n",
    "    model_trainscore=model.score(X_train,Y_train)\n",
    "    model_testscore=model.score(X_test,Y_test)\n",
    "    print('Training Score: ',model_trainscore)\n",
    "    print('Test Score: ',model_testscore)\n",
    "    \n",
    "    #Classification Report\n",
    "    print('\\nAccuracy: ',metrics.accuracy_score(Y_test,Y_pred,normalize=True))\n",
    "    print('Precision: ',metrics.precision_score(Y_test,Y_pred,average='macro') )\n",
    "    print('Recall: ', metrics.recall_score(Y_test,Y_pred,average='macro'))\n",
    "    print('F1-Score: ', metrics.f1_score(Y_test,Y_pred,average='macro'))\n",
    "    \n",
    "        # cross validation\n",
    "    score=cross_val_score(model,X_train,Y_train,cv=10)\n",
    "    print('\\nCross Validation Score: ',np.mean(score)*100)\n",
    "    "
   ]
  },
  {
   "cell_type": "markdown",
   "metadata": {},
   "source": [
    "### Logistic Regression"
   ]
  },
  {
   "cell_type": "code",
   "execution_count": 296,
   "metadata": {
    "ExecuteTime": {
     "end_time": "2021-03-09T14:53:25.546165Z",
     "start_time": "2021-03-09T14:53:24.596710Z"
    }
   },
   "outputs": [
    {
     "name": "stdout",
     "output_type": "stream",
     "text": [
      "Training Score:  0.6275100401606426\n",
      "Test Score:  0.5943775100401606\n",
      "\n",
      "Accuracy:  0.5943775100401606\n",
      "Precision:  0.587211443880347\n",
      "Recall:  0.6088182099426477\n",
      "F1-Score:  0.5902840897285896\n",
      "\n",
      "Cross Validation Score:  61.74849246231157\n"
     ]
    }
   ],
   "source": [
    "from sklearn.linear_model import LogisticRegression\n",
    "model = LogisticRegression(random_state=5)\n",
    "Classifier(model, X_train, Y_train,X_test,Y_test)\n",
    "\n",
    "# not so good as it is a multiclass"
   ]
  },
  {
   "cell_type": "markdown",
   "metadata": {},
   "source": [
    "### Decision Tree Classifier"
   ]
  },
  {
   "cell_type": "code",
   "execution_count": 297,
   "metadata": {
    "ExecuteTime": {
     "end_time": "2021-03-09T14:53:30.929876Z",
     "start_time": "2021-03-09T14:53:30.779306Z"
    }
   },
   "outputs": [
    {
     "name": "stdout",
     "output_type": "stream",
     "text": [
      "Training Score:  0.8488955823293173\n",
      "Test Score:  0.7088353413654619\n",
      "\n",
      "Accuracy:  0.7088353413654619\n",
      "Precision:  0.7020608558108558\n",
      "Recall:  0.7238320395254183\n",
      "F1-Score:  0.7080816809347552\n",
      "\n",
      "Cross Validation Score:  74.64773869346735\n"
     ]
    }
   ],
   "source": [
    "from sklearn.tree import DecisionTreeClassifier\n",
    "model = DecisionTreeClassifier(random_state=5,max_depth=8)\n",
    "Classifier(model, X_train, Y_train,X_test,Y_test)"
   ]
  },
  {
   "cell_type": "markdown",
   "metadata": {},
   "source": [
    "### Random Forest Classifier"
   ]
  },
  {
   "cell_type": "code",
   "execution_count": 298,
   "metadata": {
    "ExecuteTime": {
     "end_time": "2021-03-09T14:53:39.055806Z",
     "start_time": "2021-03-09T14:53:34.583811Z"
    }
   },
   "outputs": [
    {
     "name": "stdout",
     "output_type": "stream",
     "text": [
      "Training Score:  1.0\n",
      "Test Score:  0.8132530120481928\n",
      "\n",
      "Accuracy:  0.8132530120481928\n",
      "Precision:  0.8150408196774553\n",
      "Recall:  0.8216963076714574\n",
      "F1-Score:  0.8177931366918215\n",
      "\n",
      "Cross Validation Score:  84.03567839195979\n"
     ]
    }
   ],
   "source": [
    "from sklearn.ensemble import RandomForestClassifier\n",
    "model = RandomForestClassifier(random_state=5)\n",
    "Classifier(model, X_train, Y_train,X_test,Y_test)\n",
    "\n",
    "# random forest though gives a high accuracy but it's overfitting as Training score is perfect however test score is not"
   ]
  },
  {
   "cell_type": "markdown",
   "metadata": {},
   "source": [
    "### K-Nearest Neighbour Classifier"
   ]
  },
  {
   "cell_type": "code",
   "execution_count": 299,
   "metadata": {
    "ExecuteTime": {
     "end_time": "2021-03-09T14:53:45.528144Z",
     "start_time": "2021-03-09T14:53:45.234888Z"
    }
   },
   "outputs": [
    {
     "name": "stdout",
     "output_type": "stream",
     "text": [
      "Training Score:  0.8509036144578314\n",
      "Test Score:  0.7931726907630522\n",
      "\n",
      "Accuracy:  0.7931726907630522\n",
      "Precision:  0.7793167073351978\n",
      "Recall:  0.8020553448765813\n",
      "F1-Score:  0.7838298390931775\n",
      "\n",
      "Cross Validation Score:  78.46482412060303\n"
     ]
    }
   ],
   "source": [
    "from sklearn.neighbors import KNeighborsClassifier\n",
    "model=KNeighborsClassifier()\n",
    "Classifier(model, X_train, Y_train,X_test,Y_test)\n"
   ]
  },
  {
   "cell_type": "code",
   "execution_count": null,
   "metadata": {},
   "outputs": [],
   "source": []
  },
  {
   "cell_type": "code",
   "execution_count": 300,
   "metadata": {
    "ExecuteTime": {
     "end_time": "2021-03-09T14:53:56.467962Z",
     "start_time": "2021-03-09T14:53:56.463971Z"
    }
   },
   "outputs": [],
   "source": [
    "# We'll try some preprocessing steps after model assessment to see how it affects the model accuracy\n",
    "\n",
    "# feature scaling does not have much affect on the accuracy of any of the model\n",
    "# the model improves tremendously by balancing the class trhough over sampling\n",
    "# the model accuracy improved a bit more after removing the outlier "
   ]
  },
  {
   "cell_type": "code",
   "execution_count": 301,
   "metadata": {
    "ExecuteTime": {
     "end_time": "2021-03-09T14:53:56.685379Z",
     "start_time": "2021-03-09T14:53:56.682387Z"
    }
   },
   "outputs": [],
   "source": [
    "# Out of all the models, Random Forest is performing the best hence we go forward with Randomn Forest\n"
   ]
  },
  {
   "cell_type": "markdown",
   "metadata": {},
   "source": [
    "### Choosing Random Forest (As it gives the highest accuracy amongst other classifiers)\n",
    "\n",
    "avoiding overfitting and trying to maintain accuracy with hyperparameter tuning"
   ]
  },
  {
   "cell_type": "markdown",
   "metadata": {},
   "source": [
    "####  Hyperparameter Tuning (Manual)\n",
    "\n",
    "Trying to resolve the overfitting issue by maintaining or imporving the accuracy"
   ]
  },
  {
   "cell_type": "code",
   "execution_count": 302,
   "metadata": {
    "ExecuteTime": {
     "end_time": "2021-03-09T14:54:01.604273Z",
     "start_time": "2021-03-09T14:54:01.033799Z"
    }
   },
   "outputs": [
    {
     "name": "stdout",
     "output_type": "stream",
     "text": [
      "Training Score:  0.838855421686747\n",
      "Test Score:  0.748995983935743\n",
      "\n",
      "Accuracy:  0.748995983935743\n",
      "Precision:  0.7496623153813662\n",
      "Recall:  0.761483703370848\n",
      "F1-Score:  0.7539138112401816\n",
      "\n",
      "Cross Validation Score:  78.46482412060303\n"
     ]
    }
   ],
   "source": [
    "from sklearn.ensemble import RandomForestClassifier\n",
    "rf=RandomForestClassifier(random_state=5,n_estimators=100,max_leaf_nodes=40,max_depth=7)\n",
    "\n",
    "rf.fit(X_train,Y_train)\n",
    "rf_trainscore=rf.score(X_train,Y_train)\n",
    "rf_testscore=rf.score(X_test,Y_test)\n",
    "\n",
    "Y_pred=rf.predict(X_test)\n",
    "Y_pred_train= rf.predict(X_train)\n",
    "\n",
    "print('Training Score: ',rf_trainscore)\n",
    "print('Test Score: ',rf_testscore)\n",
    "\n",
    "\n",
    "print('\\nAccuracy: ',metrics.accuracy_score(Y_test,Y_pred,normalize=True))\n",
    "print('Precision: ',metrics.precision_score(Y_test,Y_pred,average='macro') )\n",
    "print('Recall: ', metrics.recall_score(Y_test,Y_pred,average='macro'))\n",
    "print('F1-Score: ', metrics.f1_score(Y_test,Y_pred,average='macro'))\n",
    "    \n",
    "# cross validation\n",
    "score=cross_val_score(model,X_train,Y_train,cv=10)\n",
    "print('\\nCross Validation Score: ',np.mean(score)*100)"
   ]
  },
  {
   "cell_type": "code",
   "execution_count": 303,
   "metadata": {
    "ExecuteTime": {
     "end_time": "2021-03-09T14:54:05.248670Z",
     "start_time": "2021-03-09T14:54:05.242686Z"
    }
   },
   "outputs": [
    {
     "name": "stdout",
     "output_type": "stream",
     "text": [
      "MSE Train:  0.21987951807228914\n",
      "MSE Test:  0.3453815261044177\n"
     ]
    }
   ],
   "source": [
    "from sklearn.metrics import mean_squared_error\n",
    "print('MSE Train: ',mean_squared_error(Y_train,Y_pred_train))\n",
    "print('MSE Test: ',mean_squared_error(Y_test,Y_pred))"
   ]
  },
  {
   "cell_type": "code",
   "execution_count": null,
   "metadata": {},
   "outputs": [],
   "source": []
  },
  {
   "cell_type": "markdown",
   "metadata": {},
   "source": [
    "## Feature Importance (Feature Selection) for Random forest"
   ]
  },
  {
   "cell_type": "code",
   "execution_count": 253,
   "metadata": {
    "ExecuteTime": {
     "end_time": "2021-03-09T14:42:59.550963Z",
     "start_time": "2021-03-09T14:42:59.545005Z"
    }
   },
   "outputs": [
    {
     "name": "stdout",
     "output_type": "stream",
     "text": [
      "['fixed acidity', 'volatile acidity', 'citric acid', 'residual sugar', 'chlorides', 'free sulfur dioxide', 'total sulfur dioxide', 'density', 'pH', 'sulphates', 'alcohol']\n"
     ]
    }
   ],
   "source": [
    "features=list(WineData.columns)\n",
    "X_features=features[:-1]\n",
    "print(X_features)\n"
   ]
  },
  {
   "cell_type": "code",
   "execution_count": 82,
   "metadata": {
    "ExecuteTime": {
     "end_time": "2021-03-09T12:36:34.107740Z",
     "start_time": "2021-03-09T12:36:34.099741Z"
    }
   },
   "outputs": [],
   "source": [
    "def variable_importance(fit):\n",
    "    importances=fit.feature_importances_\n",
    "    indices=np.argsort(importances)[::-1]\n",
    "    return {'importance':importances, 'index':indices}"
   ]
  },
  {
   "cell_type": "code",
   "execution_count": 255,
   "metadata": {
    "ExecuteTime": {
     "end_time": "2021-03-09T14:43:28.391478Z",
     "start_time": "2021-03-09T14:43:28.377512Z"
    }
   },
   "outputs": [],
   "source": [
    "var_imp_rf=variable_importance(rf)\n",
    "importances_rf=var_imp_rf['importance']\n",
    "indices_rf=var_imp_rf['index']"
   ]
  },
  {
   "cell_type": "code",
   "execution_count": 84,
   "metadata": {
    "ExecuteTime": {
     "end_time": "2021-03-09T12:38:19.567705Z",
     "start_time": "2021-03-09T12:38:19.559706Z"
    }
   },
   "outputs": [],
   "source": [
    "def print_var_importance(importances, indices,names_index):\n",
    "    \n",
    "    print(\"Feature Ranking\")\n",
    "    for f in range(0,indices.shape[0]):\n",
    "        i=f\n",
    "        print(\"{0}. The feature '{1}' has mean decrease in impurity of {2:.5}\"\n",
    "              .format(f+1, names_index[indices[i]],importances[indices[f]]))"
   ]
  },
  {
   "cell_type": "code",
   "execution_count": 85,
   "metadata": {
    "ExecuteTime": {
     "end_time": "2021-03-09T12:38:56.963695Z",
     "start_time": "2021-03-09T12:38:56.959695Z"
    }
   },
   "outputs": [
    {
     "name": "stdout",
     "output_type": "stream",
     "text": [
      "Feature Ranking\n",
      "1. The feature 'alcohol' has mean decrease in impurity of 0.19582\n",
      "2. The feature 'sulphates' has mean decrease in impurity of 0.19486\n",
      "3. The feature 'volatile acidity' has mean decrease in impurity of 0.16532\n",
      "4. The feature 'citric acid' has mean decrease in impurity of 0.10465\n",
      "5. The feature 'fixed acidity' has mean decrease in impurity of 0.067472\n",
      "6. The feature 'total sulfur dioxide' has mean decrease in impurity of 0.058311\n",
      "7. The feature 'chlorides' has mean decrease in impurity of 0.053782\n",
      "8. The feature 'free sulfur dioxide' has mean decrease in impurity of 0.053041\n",
      "9. The feature 'density' has mean decrease in impurity of 0.044546\n",
      "10. The feature 'residual sugar' has mean decrease in impurity of 0.031185\n",
      "11. The feature 'pH' has mean decrease in impurity of 0.031007\n"
     ]
    }
   ],
   "source": [
    "print_var_importance(importances_rf,indices_rf,X_features)"
   ]
  },
  {
   "cell_type": "code",
   "execution_count": null,
   "metadata": {},
   "outputs": [],
   "source": []
  },
  {
   "cell_type": "code",
   "execution_count": null,
   "metadata": {},
   "outputs": [],
   "source": []
  },
  {
   "cell_type": "markdown",
   "metadata": {},
   "source": [
    "## HyperParameter Tuning Using Grid Search CV"
   ]
  },
  {
   "cell_type": "code",
   "execution_count": null,
   "metadata": {},
   "outputs": [],
   "source": [
    "\n",
    "# parameters= {'max_depth':[2,4,6,7,8],\n",
    "#             'bootstrap':[True,False],\n",
    "#             'max_features':['auto','sqrt','log2',None],\n",
    "#             'criterion':['gini','entropy'],\n",
    "#             'n_estimators':[50,100,150,200],\n",
    "#             'max_leaf_nodes': [20,30,40,50],\n",
    "#             'min_samples_split':[2,3,4,5],\n",
    "#             'min_samples_leaf': [1,2,3,4]"
   ]
  },
  {
   "cell_type": "code",
   "execution_count": 250,
   "metadata": {
    "ExecuteTime": {
     "end_time": "2021-03-09T14:15:21.193422Z",
     "start_time": "2021-03-09T14:03:23.112619Z"
    }
   },
   "outputs": [
    {
     "name": "stdout",
     "output_type": "stream",
     "text": [
      "Best paramters using Grid Search: \n",
      " {'bootstrap': False, 'criterion': 'gini', 'max_depth': 7, 'max_features': 'auto', 'max_leaf_nodes': 50, 'min_samples_leaf': 1, 'min_samples_split': 2, 'n_estimators': 100}\n",
      "Accuracy using Grid Search: \n",
      " 0.7987060301507538\n"
     ]
    }
   ],
   "source": [
    "from sklearn.model_selection import GridSearchCV\n",
    "\n",
    "parameters= {\n",
    "            'max_depth':[7],\n",
    "            'bootstrap':[True,False],\n",
    "            'max_features':['auto','sqrt','log2',None],\n",
    "            'criterion':['gini','entropy'],\n",
    "            'n_estimators':[50,100],\n",
    "            'max_leaf_nodes': [30,40,50],\n",
    "            'min_samples_split':[2,3],\n",
    "            'min_samples_leaf': [1,2]}\n",
    "\n",
    "grid_search=GridSearchCV(estimator=rf,\n",
    "                        param_grid=parameters,\n",
    "                        cv=10,\n",
    "                        scoring='accuracy',\n",
    "                        n_jobs=-1)\n",
    "\n",
    "\n",
    "grid_search=grid_search.fit(X_train,Y_train)\n",
    "\n",
    "print('Best paramters using Grid Search: \\n',grid_search.best_params_)\n",
    "print('Accuracy using Grid Search: \\n',grid_search.best_score_)"
   ]
  },
  {
   "cell_type": "markdown",
   "metadata": {
    "ExecuteTime": {
     "end_time": "2021-03-04T12:43:44.854215Z",
     "start_time": "2021-03-04T12:43:44.851186Z"
    }
   },
   "source": [
    "#### Tuning based on Grid Search "
   ]
  },
  {
   "cell_type": "code",
   "execution_count": 304,
   "metadata": {
    "ExecuteTime": {
     "end_time": "2021-03-09T14:55:02.828606Z",
     "start_time": "2021-03-09T14:54:58.863237Z"
    }
   },
   "outputs": [
    {
     "name": "stdout",
     "output_type": "stream",
     "text": [
      "Training Score:  0.8649598393574297\n",
      "Test Score:  0.7570281124497992\n",
      "\n",
      "Accuracy:  0.7570281124497992\n",
      "Precision:  0.7585374658851891\n",
      "Recall:  0.7693735259665532\n",
      "F1-Score:  0.7629774985518468\n",
      "\n",
      "Cross Validation Score:  79.01557788944724\n"
     ]
    }
   ],
   "source": [
    "from sklearn.ensemble import RandomForestClassifier\n",
    "rf=RandomForestClassifier(random_state=5,n_estimators=100,max_leaf_nodes=50,max_depth=7,bootstrap=False,\n",
    "                          criterion='gini',min_samples_split=2,min_samples_leaf=1)\n",
    "\n",
    "rf.fit(X_train,Y_train)\n",
    "rf_trainscore=rf.score(X_train,Y_train)\n",
    "rf_testscore=rf.score(X_test,Y_test)\n",
    "\n",
    "Y_pred=rf.predict(X_test)\n",
    "Y_pred_train= rf.predict(X_train)\n",
    "\n",
    "print('Training Score: ',rf_trainscore)\n",
    "print('Test Score: ',rf_testscore)\n",
    "\n",
    "\n",
    "print('\\nAccuracy: ',metrics.accuracy_score(Y_test,Y_pred,normalize=True))\n",
    "print('Precision: ',metrics.precision_score(Y_test,Y_pred,average='macro') )\n",
    "print('Recall: ', metrics.recall_score(Y_test,Y_pred,average='macro'))\n",
    "print('F1-Score: ', metrics.f1_score(Y_test,Y_pred,average='macro'))\n",
    "    \n",
    "# cross validation\n",
    "score=cross_val_score(rf,X_train,Y_train,cv=10)\n",
    "print('\\nCross Validation Score: ',np.mean(score)*100)"
   ]
  },
  {
   "cell_type": "markdown",
   "metadata": {},
   "source": [
    "## Confusion Matrix (for Random Forest)"
   ]
  },
  {
   "cell_type": "code",
   "execution_count": 305,
   "metadata": {
    "ExecuteTime": {
     "end_time": "2021-03-09T14:55:07.656734Z",
     "start_time": "2021-03-09T14:55:07.371516Z"
    }
   },
   "outputs": [
    {
     "data": {
      "text/plain": [
       "<matplotlib.axes._subplots.AxesSubplot at 0x1826cdc0250>"
      ]
     },
     "execution_count": 305,
     "metadata": {},
     "output_type": "execute_result"
    },
    {
     "data": {
      "image/png": "[encoded data removed]",
      "text/plain": [
       "<Figure size 432x288 with 2 Axes>"
      ]
     },
     "metadata": {
      "needs_background": "light"
     },
     "output_type": "display_data"
    }
   ],
   "source": [
    "from sklearn.metrics import confusion_matrix\n",
    "cf=confusion_matrix(Y_test,Y_pred)\n",
    "cf\n",
    "\n",
    "sns.heatmap(cf,annot=True, fmt='2g',cmap='coolwarm')"
   ]
  },
  {
   "cell_type": "code",
   "execution_count": null,
   "metadata": {},
   "outputs": [],
   "source": []
  },
  {
   "cell_type": "markdown",
   "metadata": {},
   "source": [
    "## Selecting K-Nearest Neighbour (As the scores are closest to Random Forest)\n",
    "We are selecting K-Neighbour as well, because the initial model is not overfitted but still gives result closer to Random Forest so we will try to do some hyper parameter tuning to find out if the score gets better than tuned Random Forest model"
   ]
  },
  {
   "cell_type": "markdown",
   "metadata": {},
   "source": [
    "### Choosing the optimum value of K"
   ]
  },
  {
   "cell_type": "code",
   "execution_count": 306,
   "metadata": {
    "ExecuteTime": {
     "end_time": "2021-03-09T14:55:19.465425Z",
     "start_time": "2021-03-09T14:55:11.503679Z"
    }
   },
   "outputs": [],
   "source": [
    "accuracy_rate = []\n",
    "\n",
    "# May take some time\n",
    "for i in range(1,40):\n",
    "    \n",
    "    knn2 = KNeighborsClassifier(n_neighbors=i)\n",
    "    score=cross_val_score(knn2,X,Y,cv=10)\n",
    "    accuracy_rate.append(score.mean())"
   ]
  },
  {
   "cell_type": "code",
   "execution_count": 307,
   "metadata": {
    "ExecuteTime": {
     "end_time": "2021-03-09T14:55:27.320626Z",
     "start_time": "2021-03-09T14:55:19.468381Z"
    }
   },
   "outputs": [],
   "source": [
    "error_rate = []\n",
    "\n",
    "# May take some time\n",
    "for i in range(1,40):\n",
    "    \n",
    "    knn = KNeighborsClassifier(n_neighbors=i)\n",
    "    score=cross_val_score(knn,X,Y,cv=10)\n",
    "    error_rate.append(1-score.mean())"
   ]
  },
  {
   "cell_type": "code",
   "execution_count": 308,
   "metadata": {
    "ExecuteTime": {
     "end_time": "2021-03-09T14:55:27.521845Z",
     "start_time": "2021-03-09T14:55:27.323403Z"
    }
   },
   "outputs": [
    {
     "data": {
      "text/plain": [
       "Text(0, 0.5, 'Accuracy Rate')"
      ]
     },
     "execution_count": 308,
     "metadata": {},
     "output_type": "execute_result"
    },
    {
     "data": {
      "image/png": "[encoded data removed]",
      "text/plain": [
       "<Figure size 720x432 with 1 Axes>"
      ]
     },
     "metadata": {
      "needs_background": "light"
     },
     "output_type": "display_data"
    }
   ],
   "source": [
    "plt.figure(figsize=(10,6))\n",
    "# plt.plot(range(1,40),error_rate,color='blue', linestyle='dashed', marker='o',\n",
    "#         markerfacecolor='red', markersize=10)\n",
    "# plt.title('Error Rate vs. K Value')\n",
    "# plt.xlabel('K')\n",
    "# plt.ylabel('Error Rate')\n",
    "\n",
    "plt.plot(range(1,40),accuracy_rate,color='blue', linestyle='dashed', marker='o',\n",
    "         markerfacecolor='red', markersize=10)\n",
    "plt.title('Accuracy Rate vs. K Value')\n",
    "plt.xlabel('K')\n",
    "plt.ylabel('Accuracy Rate')"
   ]
  },
  {
   "cell_type": "markdown",
   "metadata": {},
   "source": [
    "## Hyper Parameter Tuning using Grid Search CV"
   ]
  },
  {
   "cell_type": "code",
   "execution_count": 244,
   "metadata": {
    "ExecuteTime": {
     "end_time": "2021-03-09T14:02:17.197904Z",
     "start_time": "2021-03-09T14:02:10.160722Z"
    }
   },
   "outputs": [
    {
     "name": "stdout",
     "output_type": "stream",
     "text": [
      "Best paramters using Grid Search: \n",
      " {'algorithm': 'auto', 'leaf_size': 30, 'n_neighbors': 1, 'p': 1, 'weights': 'uniform'}\n",
      "Accuracy using Grid Search: \n",
      " 0.8263015075376885\n"
     ]
    }
   ],
   "source": [
    "from sklearn.model_selection import GridSearchCV\n",
    "\n",
    "parameters2= {\n",
    "            'n_neighbors':[1,2,3,4],\n",
    "            'weights' : ['uniform', 'distance'],\n",
    "            'p':[1,2],\n",
    "            'leaf_size':[30,40],\n",
    "            'weights':['uniform', 'distance'],\n",
    "            'algorithm':['auto', 'ball_tree', 'kd_tree', 'brute']}\n",
    "\n",
    "grid_search=GridSearchCV(estimator=knn,\n",
    "                        param_grid=parameters2,\n",
    "                        cv=10,\n",
    "                        scoring='accuracy',\n",
    "                        n_jobs=-1)\n",
    "\n",
    "\n",
    "grid_search=grid_search.fit(X_train,Y_train)\n",
    "\n",
    "print('Best paramters using Grid Search: \\n',grid_search.best_params_)\n",
    "print('Accuracy using Grid Search: \\n',grid_search.best_score_)"
   ]
  },
  {
   "cell_type": "markdown",
   "metadata": {},
   "source": [
    "#### Tuning based on grid search"
   ]
  },
  {
   "cell_type": "code",
   "execution_count": 309,
   "metadata": {
    "ExecuteTime": {
     "end_time": "2021-03-09T14:55:38.192701Z",
     "start_time": "2021-03-09T14:55:37.875578Z"
    }
   },
   "outputs": [
    {
     "name": "stdout",
     "output_type": "stream",
     "text": [
      "Training Score:  1.0\n",
      "Test Score:  0.8152610441767069\n",
      "\n",
      "Accuracy:  0.8152610441767069\n",
      "Precision:  0.8067885415200521\n",
      "Recall:  0.8226526442661021\n",
      "F1-Score:  0.8097394370836694\n",
      "\n",
      "Cross Validation Score:  82.63065326633165\n"
     ]
    }
   ],
   "source": [
    "from sklearn.neighbors import KNeighborsClassifier\n",
    "knn=KNeighborsClassifier(n_neighbors=1,p=1)\n",
    "\n",
    "knn.fit(X_train,Y_train)\n",
    "knn_trainscore=knn.score(X_train,Y_train)\n",
    "knn_testscore=knn.score(X_test,Y_test)\n",
    "\n",
    "Y_pred=knn.predict(X_test)\n",
    "Y_pred_train= knn.predict(X_train)\n",
    "\n",
    "print('Training Score: ',knn_trainscore)\n",
    "print('Test Score: ',knn_testscore)\n",
    "\n",
    "\n",
    "print('\\nAccuracy: ',metrics.accuracy_score(Y_test,Y_pred,normalize=True))\n",
    "print('Precision: ',metrics.precision_score(Y_test,Y_pred,average='macro') )\n",
    "print('Recall: ', metrics.recall_score(Y_test,Y_pred,average='macro'))\n",
    "print('F1-Score: ', metrics.f1_score(Y_test,Y_pred,average='macro'))\n",
    "    \n",
    "# cross validation\n",
    "score=cross_val_score(knn,X_train,Y_train,cv=10)\n",
    "print('\\nCross Validation Score: ',np.mean(score)*100)"
   ]
  },
  {
   "cell_type": "markdown",
   "metadata": {},
   "source": [
    "### Hyper Paramter tuning (Manual)\n",
    "\n",
    "On placing the value of grid search CV we find out that the K-NN model moves towards an overfitting model, hence we will\n",
    "take the value of k manually as 4 (as per the accuracy vs K-value graph) which gives the best result out of 1 to 5 neighbours "
   ]
  },
  {
   "cell_type": "code",
   "execution_count": 310,
   "metadata": {
    "ExecuteTime": {
     "end_time": "2021-03-09T14:55:44.440064Z",
     "start_time": "2021-03-09T14:55:44.029162Z"
    }
   },
   "outputs": [
    {
     "name": "stdout",
     "output_type": "stream",
     "text": [
      "Training Score:  0.8684738955823293\n",
      "Test Score:  0.8032128514056225\n",
      "\n",
      "Accuracy:  0.8032128514056225\n",
      "Precision:  0.7916589222936841\n",
      "Recall:  0.8121436830604306\n",
      "F1-Score:  0.793481414843633\n",
      "\n",
      "Cross Validation Score:  79.46859296482411\n"
     ]
    }
   ],
   "source": [
    "from sklearn.neighbors import KNeighborsClassifier\n",
    "knn=KNeighborsClassifier(n_neighbors=4)\n",
    "\n",
    "knn.fit(X_train,Y_train)\n",
    "knn_trainscore=knn.score(X_train,Y_train)\n",
    "knn_testscore=knn.score(X_test,Y_test)\n",
    "\n",
    "Y_pred=knn.predict(X_test)\n",
    "Y_pred_train= knn.predict(X_train)\n",
    "\n",
    "print('Training Score: ',knn_trainscore)\n",
    "print('Test Score: ',knn_testscore)\n",
    "\n",
    "\n",
    "print('\\nAccuracy: ',metrics.accuracy_score(Y_test,Y_pred,normalize=True))\n",
    "print('Precision: ',metrics.precision_score(Y_test,Y_pred,average='macro') )\n",
    "print('Recall: ', metrics.recall_score(Y_test,Y_pred,average='macro'))\n",
    "print('F1-Score: ', metrics.f1_score(Y_test,Y_pred,average='macro'))\n",
    "    \n",
    "# cross validation\n",
    "score=cross_val_score(knn,X_train,Y_train,cv=10)\n",
    "print('\\nCross Validation Score: ',np.mean(score)*100)"
   ]
  },
  {
   "cell_type": "code",
   "execution_count": null,
   "metadata": {},
   "outputs": [],
   "source": []
  },
  {
   "cell_type": "code",
   "execution_count": null,
   "metadata": {},
   "outputs": [],
   "source": []
  },
  {
   "cell_type": "markdown",
   "metadata": {},
   "source": [
    "### Confusion Matrix (for K-NN)"
   ]
  },
  {
   "cell_type": "code",
   "execution_count": 311,
   "metadata": {
    "ExecuteTime": {
     "end_time": "2021-03-09T14:55:52.679781Z",
     "start_time": "2021-03-09T14:55:52.389365Z"
    }
   },
   "outputs": [
    {
     "data": {
      "text/plain": [
       "<matplotlib.axes._subplots.AxesSubplot at 0x1826cf5ea90>"
      ]
     },
     "execution_count": 311,
     "metadata": {},
     "output_type": "execute_result"
    },
    {
     "data": {
      "image/png": "[encoded data removed]",
      "text/plain": [
       "<Figure size 432x288 with 2 Axes>"
      ]
     },
     "metadata": {
      "needs_background": "light"
     },
     "output_type": "display_data"
    }
   ],
   "source": [
    "from sklearn.metrics import confusion_matrix\n",
    "cf=confusion_matrix(Y_test,Y_pred)\n",
    "cf\n",
    "\n",
    "sns.heatmap(cf,annot=True, fmt='2g',cmap='coolwarm')"
   ]
  },
  {
   "cell_type": "markdown",
   "metadata": {},
   "source": [
    "#### We notice that K-NN has better accuracy,CV score as well as the classification metrics than Random Forest.\n",
    "#### Hence we will go ahead with K-NN algorithm to predict the rating of the wine"
   ]
  },
  {
   "cell_type": "code",
   "execution_count": null,
   "metadata": {},
   "outputs": [],
   "source": []
  },
  {
   "cell_type": "code",
   "execution_count": null,
   "metadata": {},
   "outputs": [],
   "source": []
  },
  {
   "cell_type": "code",
   "execution_count": null,
   "metadata": {},
   "outputs": [],
   "source": []
  },
  {
   "cell_type": "markdown",
   "metadata": {},
   "source": [
    "###### Going ahead with one more approach to group the data into good and bad and check how the model accuracy changes\n",
    "###### especially Logistic Regression"
   ]
  },
  {
   "cell_type": "markdown",
   "metadata": {
    "ExecuteTime": {
     "end_time": "2021-03-03T21:47:05.382341Z",
     "start_time": "2021-03-03T21:47:05.378352Z"
    }
   },
   "source": [
    "# Grouping the Wine Quality to Good and Bad categories\n",
    "\n",
    "Here we group the Wine Quality in two categories, Good Quality >= 6 and Bad Quality <= 5 and then run the Classifier again"
   ]
  },
  {
   "cell_type": "code",
   "execution_count": 66,
   "metadata": {
    "ExecuteTime": {
     "end_time": "2021-03-09T12:32:50.515721Z",
     "start_time": "2021-03-09T12:32:50.499731Z"
    }
   },
   "outputs": [
    {
     "data": {
      "text/html": [
       "<div>\n",
       "<style scoped>\n",
       "    .dataframe tbody tr th:only-of-type {\n",
       "        vertical-align: middle;\n",
       "    }\n",
       "\n",
       "    .dataframe tbody tr th {\n",
       "        vertical-align: top;\n",
       "    }\n",
       "\n",
       "    .dataframe thead th {\n",
       "        text-align: right;\n",
       "    }\n",
       "</style>\n",
       "<table border=\"1\" class=\"dataframe\">\n",
       "  <thead>\n",
       "    <tr style=\"text-align: right;\">\n",
       "      <th></th>\n",
       "      <th>fixed acidity</th>\n",
       "      <th>volatile acidity</th>\n",
       "      <th>citric acid</th>\n",
       "      <th>residual sugar</th>\n",
       "      <th>chlorides</th>\n",
       "      <th>free sulfur dioxide</th>\n",
       "      <th>total sulfur dioxide</th>\n",
       "      <th>density</th>\n",
       "      <th>pH</th>\n",
       "      <th>sulphates</th>\n",
       "      <th>alcohol</th>\n",
       "      <th>quality</th>\n",
       "    </tr>\n",
       "  </thead>\n",
       "  <tbody>\n",
       "    <tr>\n",
       "      <th>0</th>\n",
       "      <td>7.4</td>\n",
       "      <td>0.70</td>\n",
       "      <td>0.0</td>\n",
       "      <td>1.9</td>\n",
       "      <td>0.076</td>\n",
       "      <td>11.0</td>\n",
       "      <td>34.0</td>\n",
       "      <td>0.9978</td>\n",
       "      <td>3.51</td>\n",
       "      <td>0.56</td>\n",
       "      <td>9.4</td>\n",
       "      <td>5</td>\n",
       "    </tr>\n",
       "    <tr>\n",
       "      <th>1</th>\n",
       "      <td>7.8</td>\n",
       "      <td>0.88</td>\n",
       "      <td>0.0</td>\n",
       "      <td>2.6</td>\n",
       "      <td>0.098</td>\n",
       "      <td>25.0</td>\n",
       "      <td>67.0</td>\n",
       "      <td>0.9968</td>\n",
       "      <td>3.20</td>\n",
       "      <td>0.68</td>\n",
       "      <td>9.8</td>\n",
       "      <td>5</td>\n",
       "    </tr>\n",
       "  </tbody>\n",
       "</table>\n",
       "</div>"
      ],
      "text/plain": [
       "   fixed acidity  volatile acidity  citric acid  residual sugar  chlorides  \\\n",
       "0            7.4              0.70          0.0             1.9      0.076   \n",
       "1            7.8              0.88          0.0             2.6      0.098   \n",
       "\n",
       "   free sulfur dioxide  total sulfur dioxide  density    pH  sulphates  \\\n",
       "0                 11.0                  34.0   0.9978  3.51       0.56   \n",
       "1                 25.0                  67.0   0.9968  3.20       0.68   \n",
       "\n",
       "   alcohol  quality  \n",
       "0      9.4        5  \n",
       "1      9.8        5  "
      ]
     },
     "execution_count": 66,
     "metadata": {},
     "output_type": "execute_result"
    }
   ],
   "source": [
    "WineDataNew = WineData\n",
    "WineDataNew.head(2)"
   ]
  },
  {
   "cell_type": "code",
   "execution_count": 67,
   "metadata": {
    "ExecuteTime": {
     "end_time": "2021-03-09T12:32:51.187722Z",
     "start_time": "2021-03-09T12:32:51.047751Z"
    }
   },
   "outputs": [
    {
     "data": {
      "image/png": "[encoded data removed]",
      "text/plain": [
       "<Figure size 432x288 with 1 Axes>"
      ]
     },
     "metadata": {
      "needs_background": "light"
     },
     "output_type": "display_data"
    }
   ],
   "source": [
    "sns.countplot(WineData['quality'])\n",
    "plt.show()"
   ]
  },
  {
   "cell_type": "code",
   "execution_count": 68,
   "metadata": {
    "ExecuteTime": {
     "end_time": "2021-03-09T12:32:51.819720Z",
     "start_time": "2021-03-09T12:32:51.803727Z"
    }
   },
   "outputs": [
    {
     "data": {
      "text/plain": [
       "Good    536\n",
       "Bad     449\n",
       "Name: rating, dtype: int64"
      ]
     },
     "execution_count": 68,
     "metadata": {},
     "output_type": "execute_result"
    }
   ],
   "source": [
    "conditions=[(WineDataNew['quality']>=6),(WineDataNew['quality']<=5)]\n",
    "rating=['Good','Bad']\n",
    "WineDataNew['rating']=np.select(conditions,rating)\n",
    "WineDataNew.rating.value_counts()"
   ]
  },
  {
   "cell_type": "code",
   "execution_count": 69,
   "metadata": {
    "ExecuteTime": {
     "end_time": "2021-03-09T12:32:52.703958Z",
     "start_time": "2021-03-09T12:32:52.587759Z"
    }
   },
   "outputs": [
    {
     "data": {
      "text/plain": [
       "<matplotlib.axes._subplots.AxesSubplot at 0x1826a76f910>"
      ]
     },
     "execution_count": 69,
     "metadata": {},
     "output_type": "execute_result"
    },
    {
     "data": {
      "image/png": "[encoded data removed]",
      "text/plain": [
       "<Figure size 432x288 with 1 Axes>"
      ]
     },
     "metadata": {
      "needs_background": "light"
     },
     "output_type": "display_data"
    }
   ],
   "source": [
    "sns.countplot(WineDataNew.rating)\n",
    "\n",
    "# no need for balancing by oversampling as for both the categories similar amount of sample and is fairly balanced"
   ]
  },
  {
   "cell_type": "markdown",
   "metadata": {},
   "source": [
    "## Splitting Data into X and Y variables"
   ]
  },
  {
   "cell_type": "code",
   "execution_count": 70,
   "metadata": {
    "ExecuteTime": {
     "end_time": "2021-03-09T12:32:53.851720Z",
     "start_time": "2021-03-09T12:32:53.843720Z"
    }
   },
   "outputs": [],
   "source": [
    "XNew=WineDataNew.drop(['quality','rating'],axis=1)\n",
    "YNew=WineDataNew['rating']"
   ]
  },
  {
   "cell_type": "markdown",
   "metadata": {},
   "source": [
    "## Splitting Data into Train and Test Split"
   ]
  },
  {
   "cell_type": "code",
   "execution_count": 71,
   "metadata": {
    "ExecuteTime": {
     "end_time": "2021-03-09T12:32:54.875720Z",
     "start_time": "2021-03-09T12:32:54.867720Z"
    }
   },
   "outputs": [],
   "source": [
    "XNew_train,XNew_test,YNew_train,YNew_test=train_test_split(XNew,YNew,test_size=0.2,random_state=10)"
   ]
  },
  {
   "cell_type": "code",
   "execution_count": 72,
   "metadata": {
    "ExecuteTime": {
     "end_time": "2021-03-09T12:32:56.567719Z",
     "start_time": "2021-03-09T12:32:56.563720Z"
    }
   },
   "outputs": [],
   "source": [
    "## Feature Scaling"
   ]
  },
  {
   "cell_type": "code",
   "execution_count": 73,
   "metadata": {
    "ExecuteTime": {
     "end_time": "2021-03-09T12:32:56.859766Z",
     "start_time": "2021-03-09T12:32:56.847719Z"
    }
   },
   "outputs": [],
   "source": [
    "from sklearn.preprocessing import StandardScaler\n",
    "\n",
    "StandardScaler=StandardScaler()\n",
    "XNew_train=StandardScaler.fit_transform(XNew_train)\n",
    "XNew_test=StandardScaler.transform(XNew_test)"
   ]
  },
  {
   "cell_type": "markdown",
   "metadata": {},
   "source": [
    "## Model Training"
   ]
  },
  {
   "cell_type": "markdown",
   "metadata": {},
   "source": [
    "#### Logistic Regression"
   ]
  },
  {
   "cell_type": "code",
   "execution_count": 74,
   "metadata": {
    "ExecuteTime": {
     "end_time": "2021-03-09T12:32:58.615718Z",
     "start_time": "2021-03-09T12:32:58.495719Z"
    }
   },
   "outputs": [
    {
     "name": "stdout",
     "output_type": "stream",
     "text": [
      "Training Score:  0.7411167512690355\n",
      "Test Score:  0.7309644670050761\n",
      "\n",
      "Accuracy:  0.7309644670050761\n",
      "Precision:  0.7367820858386895\n",
      "Recall:  0.738662486938349\n",
      "F1-Score:  0.7308535044982343\n",
      "\n",
      "Cross Validation Score:  73.99221032132425\n"
     ]
    }
   ],
   "source": [
    "\n",
    "modelnew = LogisticRegression(random_state=5)\n",
    "Classifier(modelnew, XNew_train, YNew_train,XNew_test,YNew_test)\n",
    "\n",
    "# logistic regression results imporves as it dichomotive class classifier"
   ]
  },
  {
   "cell_type": "markdown",
   "metadata": {},
   "source": [
    "#### Decision Tree"
   ]
  },
  {
   "cell_type": "code",
   "execution_count": 75,
   "metadata": {
    "ExecuteTime": {
     "end_time": "2021-03-09T12:33:00.423727Z",
     "start_time": "2021-03-09T12:33:00.327718Z"
    }
   },
   "outputs": [
    {
     "name": "stdout",
     "output_type": "stream",
     "text": [
      "Training Score:  0.7652284263959391\n",
      "Test Score:  0.6903553299492385\n",
      "\n",
      "Accuracy:  0.6903553299492385\n",
      "Precision:  0.6926728586171311\n",
      "Recall:  0.6950888192267503\n",
      "F1-Score:  0.6898438508194606\n",
      "\n",
      "Cross Validation Score:  71.07919506653684\n"
     ]
    }
   ],
   "source": [
    "\n",
    "modelnew = DecisionTreeClassifier(random_state=5,max_depth=3)\n",
    "Classifier(modelnew, XNew_train, YNew_train,XNew_test,YNew_test)"
   ]
  },
  {
   "cell_type": "markdown",
   "metadata": {},
   "source": [
    "#### Random Forest"
   ]
  },
  {
   "cell_type": "code",
   "execution_count": 76,
   "metadata": {
    "ExecuteTime": {
     "end_time": "2021-03-09T12:33:11.699716Z",
     "start_time": "2021-03-09T12:33:09.663716Z"
    }
   },
   "outputs": [
    {
     "name": "stdout",
     "output_type": "stream",
     "text": [
      "Training Score:  0.7880710659898477\n",
      "Test Score:  0.7055837563451777\n",
      "\n",
      "Accuracy:  0.7055837563451777\n",
      "Precision:  0.7103519668737059\n",
      "Recall:  0.7123301985370951\n",
      "F1-Score:  0.7053939768976898\n",
      "\n",
      "Cross Validation Score:  73.86562804284324\n"
     ]
    }
   ],
   "source": [
    "\n",
    "modelnew = RandomForestClassifier(random_state=5,n_estimators=100,max_leaf_nodes=20,max_depth=4,bootstrap=False,\n",
    "                          criterion='entropy',min_samples_split=2,min_samples_leaf=2)\n",
    "Classifier(modelnew, XNew_train, YNew_train,XNew_test,YNew_test)"
   ]
  },
  {
   "cell_type": "markdown",
   "metadata": {},
   "source": [
    "#### K-Nearest Neighbour Classifier"
   ]
  },
  {
   "cell_type": "code",
   "execution_count": 77,
   "metadata": {
    "ExecuteTime": {
     "end_time": "2021-03-09T12:33:13.275715Z",
     "start_time": "2021-03-09T12:33:13.107741Z"
    }
   },
   "outputs": [
    {
     "name": "stdout",
     "output_type": "stream",
     "text": [
      "Training Score:  0.8134517766497462\n",
      "Test Score:  0.7055837563451777\n",
      "\n",
      "Accuracy:  0.7055837563451777\n",
      "Precision:  0.705885384456813\n",
      "Recall:  0.7087251828631138\n",
      "F1-Score:  0.7046629445822994\n",
      "\n",
      "Cross Validation Score:  72.20545277507303\n"
     ]
    }
   ],
   "source": [
    "\n",
    "modelnew = KNeighborsClassifier()\n",
    "Classifier(modelnew, XNew_train, YNew_train,XNew_test,YNew_test)"
   ]
  },
  {
   "cell_type": "code",
   "execution_count": null,
   "metadata": {},
   "outputs": [],
   "source": []
  },
  {
   "cell_type": "markdown",
   "metadata": {},
   "source": [
    "#### Choosing Logistic Regression"
   ]
  },
  {
   "cell_type": "code",
   "execution_count": 319,
   "metadata": {
    "ExecuteTime": {
     "end_time": "2021-03-09T15:21:52.131450Z",
     "start_time": "2021-03-09T15:21:52.111451Z"
    }
   },
   "outputs": [
    {
     "name": "stdout",
     "output_type": "stream",
     "text": [
      "Training Score:  0.7411167512690355\n",
      "Test Score:  0.7309644670050761\n"
     ]
    }
   ],
   "source": [
    "\n",
    "logrNew=LogisticRegression(random_state=5)\n",
    "\n",
    "logrNew.fit(XNew_train,YNew_train)\n",
    "logrNew_trainscore=logrNew.score(XNew_train,YNew_train)\n",
    "logrNew_testscore=logrNew.score(XNew_test,YNew_test)\n",
    "\n",
    "YNew_pred=logrNew.predict(XNew_test)\n",
    "\n",
    "\n",
    "print('Training Score: ',logrNew_trainscore)\n",
    "print('Test Score: ',logrNew_testscore)"
   ]
  },
  {
   "cell_type": "markdown",
   "metadata": {},
   "source": [
    "### Classification Report"
   ]
  },
  {
   "cell_type": "code",
   "execution_count": 79,
   "metadata": {
    "ExecuteTime": {
     "end_time": "2021-03-09T12:33:27.579710Z",
     "start_time": "2021-03-09T12:33:27.563713Z"
    }
   },
   "outputs": [
    {
     "name": "stdout",
     "output_type": "stream",
     "text": [
      "              precision    recall  f1-score   support\n",
      "\n",
      "         Bad       0.66      0.80      0.73        87\n",
      "        Good       0.81      0.67      0.74       110\n",
      "\n",
      "    accuracy                           0.73       197\n",
      "   macro avg       0.74      0.74      0.73       197\n",
      "weighted avg       0.75      0.73      0.73       197\n",
      "\n"
     ]
    }
   ],
   "source": [
    "from sklearn.metrics import classification_report\n",
    "\n",
    "cr=classification_report(YNew_test,YNew_pred)\n",
    "print(cr)"
   ]
  },
  {
   "cell_type": "markdown",
   "metadata": {},
   "source": [
    "### Confusion Matrix"
   ]
  },
  {
   "cell_type": "code",
   "execution_count": 80,
   "metadata": {
    "ExecuteTime": {
     "end_time": "2021-03-09T12:33:28.695711Z",
     "start_time": "2021-03-09T12:33:28.687711Z"
    }
   },
   "outputs": [
    {
     "data": {
      "text/plain": [
       "array([[70, 17],\n",
       "       [36, 74]], dtype=int64)"
      ]
     },
     "execution_count": 80,
     "metadata": {},
     "output_type": "execute_result"
    }
   ],
   "source": [
    "cfNew=confusion_matrix(YNew_test,YNew_pred)\n",
    "cfNew\n"
   ]
  },
  {
   "cell_type": "code",
   "execution_count": 81,
   "metadata": {
    "ExecuteTime": {
     "end_time": "2021-03-09T12:33:39.291729Z",
     "start_time": "2021-03-09T12:33:39.123708Z"
    }
   },
   "outputs": [
    {
     "data": {
      "image/png": "[encoded data removed]",
      "text/plain": [
       "<Figure size 432x288 with 2 Axes>"
      ]
     },
     "metadata": {
      "needs_background": "light"
     },
     "output_type": "display_data"
    }
   ],
   "source": [
    "from sklearn.metrics import confusion_matrix\n",
    "\n",
    "sns.heatmap(cfNew,annot=True, fmt='2g',cmap='coolwarm')\n",
    "\n",
    "plt.show()"
   ]
  },
  {
   "cell_type": "code",
   "execution_count": null,
   "metadata": {},
   "outputs": [],
   "source": []
  },
  {
   "cell_type": "markdown",
   "metadata": {},
   "source": [
    "## Comparing the result of the shortlisted Models using visualization"
   ]
  },
  {
   "cell_type": "code",
   "execution_count": null,
   "metadata": {},
   "outputs": [],
   "source": [
    "# Random Forest (Rating 1-10)\n",
    "Accuracy:  0.7570281124497992\n",
    "Precision:  0.7585374658851891\n",
    "Recall:  0.7693735259665532\n",
    "F1-Score:  0.7629774985518468\n",
    "Cross Validation Score:  79.01557788944724\n",
    "    \n",
    "# K-NN  (Rating 1-10)\n",
    "Accuracy:  0.8032128514056225\n",
    "Precision:  0.7916589222936841\n",
    "Recall:  0.8121436830604306\n",
    "F1-Score:  0.793481414843633\n",
    "Cross Validation Score:  79.46859296482411\n",
    "    \n",
    "#Logistic Regression (Quality: Good / Bad)\n",
    "Accuracy:  0.7309644670050761\n",
    "Precision:  0.7367820858386895\n",
    "Recall:  0.738662486938349\n",
    "F1-Score:  0.7308535044982343\n",
    "Cross Validation Score:  73.99221032132425"
   ]
  },
  {
   "cell_type": "code",
   "execution_count": 322,
   "metadata": {
    "ExecuteTime": {
     "end_time": "2021-03-09T17:30:57.773173Z",
     "start_time": "2021-03-09T17:30:57.761173Z"
    }
   },
   "outputs": [],
   "source": [
    "ScoreCard= {'RandomForest': {'Accuracy':0.76,'Precision':0.76,'Recall':0.77,'F1-Score':0.76,'Cross Validation Score':0.79},\n",
    "          'K-NN':{'Accuracy':0.80,'Precision':0.79,'Recall':0.81,'F1-Score':0.79,'Cross Validation Score':0.79},\n",
    "          'Logistic Regression':{'Accuracy':0.73,'Precision':0.74,'Recall':0.74,'F1-Score':0.73,'Cross Validation Score':0.73}\n",
    "          }"
   ]
  },
  {
   "cell_type": "code",
   "execution_count": 367,
   "metadata": {
    "ExecuteTime": {
     "end_time": "2021-03-09T17:57:10.674194Z",
     "start_time": "2021-03-09T17:57:10.655223Z"
    }
   },
   "outputs": [
    {
     "data": {
      "text/html": [
       "<div>\n",
       "<style scoped>\n",
       "    .dataframe tbody tr th:only-of-type {\n",
       "        vertical-align: middle;\n",
       "    }\n",
       "\n",
       "    .dataframe tbody tr th {\n",
       "        vertical-align: top;\n",
       "    }\n",
       "\n",
       "    .dataframe thead th {\n",
       "        text-align: right;\n",
       "    }\n",
       "</style>\n",
       "<table border=\"1\" class=\"dataframe\">\n",
       "  <thead>\n",
       "    <tr style=\"text-align: right;\">\n",
       "      <th></th>\n",
       "      <th></th>\n",
       "      <th>0</th>\n",
       "    </tr>\n",
       "  </thead>\n",
       "  <tbody>\n",
       "    <tr>\n",
       "      <th rowspan=\"5\" valign=\"top\">RandomForest</th>\n",
       "      <th>Accuracy</th>\n",
       "      <td>0.76</td>\n",
       "    </tr>\n",
       "    <tr>\n",
       "      <th>Precision</th>\n",
       "      <td>0.76</td>\n",
       "    </tr>\n",
       "    <tr>\n",
       "      <th>Recall</th>\n",
       "      <td>0.77</td>\n",
       "    </tr>\n",
       "    <tr>\n",
       "      <th>F1-Score</th>\n",
       "      <td>0.76</td>\n",
       "    </tr>\n",
       "    <tr>\n",
       "      <th>Cross Validation Score</th>\n",
       "      <td>0.79</td>\n",
       "    </tr>\n",
       "    <tr>\n",
       "      <th rowspan=\"5\" valign=\"top\">K-NN</th>\n",
       "      <th>Accuracy</th>\n",
       "      <td>0.80</td>\n",
       "    </tr>\n",
       "    <tr>\n",
       "      <th>Precision</th>\n",
       "      <td>0.79</td>\n",
       "    </tr>\n",
       "    <tr>\n",
       "      <th>Recall</th>\n",
       "      <td>0.81</td>\n",
       "    </tr>\n",
       "    <tr>\n",
       "      <th>F1-Score</th>\n",
       "      <td>0.79</td>\n",
       "    </tr>\n",
       "    <tr>\n",
       "      <th>Cross Validation Score</th>\n",
       "      <td>0.79</td>\n",
       "    </tr>\n",
       "    <tr>\n",
       "      <th rowspan=\"5\" valign=\"top\">Logistic Regression</th>\n",
       "      <th>Accuracy</th>\n",
       "      <td>0.73</td>\n",
       "    </tr>\n",
       "    <tr>\n",
       "      <th>Precision</th>\n",
       "      <td>0.74</td>\n",
       "    </tr>\n",
       "    <tr>\n",
       "      <th>Recall</th>\n",
       "      <td>0.74</td>\n",
       "    </tr>\n",
       "    <tr>\n",
       "      <th>F1-Score</th>\n",
       "      <td>0.73</td>\n",
       "    </tr>\n",
       "    <tr>\n",
       "      <th>Cross Validation Score</th>\n",
       "      <td>0.73</td>\n",
       "    </tr>\n",
       "  </tbody>\n",
       "</table>\n",
       "</div>"
      ],
      "text/plain": [
       "                                               0\n",
       "RandomForest        Accuracy                0.76\n",
       "                    Precision               0.76\n",
       "                    Recall                  0.77\n",
       "                    F1-Score                0.76\n",
       "                    Cross Validation Score  0.79\n",
       "K-NN                Accuracy                0.80\n",
       "                    Precision               0.79\n",
       "                    Recall                  0.81\n",
       "                    F1-Score                0.79\n",
       "                    Cross Validation Score  0.79\n",
       "Logistic Regression Accuracy                0.73\n",
       "                    Precision               0.74\n",
       "                    Recall                  0.74\n",
       "                    F1-Score                0.73\n",
       "                    Cross Validation Score  0.73"
      ]
     },
     "execution_count": 367,
     "metadata": {},
     "output_type": "execute_result"
    }
   ],
   "source": [
    "user_ids = []\n",
    "frames = []\n",
    "\n",
    "for user_id, d in ScoreCard.items():\n",
    "    user_ids.append(user_id)\n",
    "    frames.append(pd.DataFrame.from_dict(d, orient='index'))\n",
    "\n",
    "pd.concat(frames, keys=user_ids)"
   ]
  },
  {
   "cell_type": "code",
   "execution_count": 371,
   "metadata": {
    "ExecuteTime": {
     "end_time": "2021-03-09T18:00:55.252819Z",
     "start_time": "2021-03-09T18:00:55.246836Z"
    }
   },
   "outputs": [],
   "source": [
    "Finaldf=pd.concat(frames, keys=user_ids)"
   ]
  },
  {
   "cell_type": "code",
   "execution_count": 410,
   "metadata": {
    "ExecuteTime": {
     "end_time": "2021-03-09T18:24:24.883411Z",
     "start_time": "2021-03-09T18:24:24.871397Z"
    }
   },
   "outputs": [],
   "source": [
    "Finaldf.to_csv('Scorecard.csv')\n"
   ]
  },
  {
   "cell_type": "code",
   "execution_count": 416,
   "metadata": {
    "ExecuteTime": {
     "end_time": "2021-03-09T18:39:59.533139Z",
     "start_time": "2021-03-09T18:39:59.519177Z"
    }
   },
   "outputs": [
    {
     "data": {
      "text/html": [
       "<div>\n",
       "<style scoped>\n",
       "    .dataframe tbody tr th:only-of-type {\n",
       "        vertical-align: middle;\n",
       "    }\n",
       "\n",
       "    .dataframe tbody tr th {\n",
       "        vertical-align: top;\n",
       "    }\n",
       "\n",
       "    .dataframe thead th {\n",
       "        text-align: right;\n",
       "    }\n",
       "</style>\n",
       "<table border=\"1\" class=\"dataframe\">\n",
       "  <thead>\n",
       "    <tr style=\"text-align: right;\">\n",
       "      <th></th>\n",
       "      <th>ML Algorithm</th>\n",
       "      <th>Metrics</th>\n",
       "      <th>Values</th>\n",
       "    </tr>\n",
       "  </thead>\n",
       "  <tbody>\n",
       "    <tr>\n",
       "      <th>0</th>\n",
       "      <td>RandomForest</td>\n",
       "      <td>Accuracy</td>\n",
       "      <td>0.76</td>\n",
       "    </tr>\n",
       "    <tr>\n",
       "      <th>1</th>\n",
       "      <td>RandomForest</td>\n",
       "      <td>Precision</td>\n",
       "      <td>0.76</td>\n",
       "    </tr>\n",
       "    <tr>\n",
       "      <th>2</th>\n",
       "      <td>RandomForest</td>\n",
       "      <td>Recall</td>\n",
       "      <td>0.77</td>\n",
       "    </tr>\n",
       "    <tr>\n",
       "      <th>3</th>\n",
       "      <td>RandomForest</td>\n",
       "      <td>F1-Score</td>\n",
       "      <td>0.76</td>\n",
       "    </tr>\n",
       "    <tr>\n",
       "      <th>4</th>\n",
       "      <td>RandomForest</td>\n",
       "      <td>Cross Validation Score</td>\n",
       "      <td>0.79</td>\n",
       "    </tr>\n",
       "    <tr>\n",
       "      <th>5</th>\n",
       "      <td>K-NN</td>\n",
       "      <td>Accuracy</td>\n",
       "      <td>0.80</td>\n",
       "    </tr>\n",
       "    <tr>\n",
       "      <th>6</th>\n",
       "      <td>K-NN</td>\n",
       "      <td>Precision</td>\n",
       "      <td>0.79</td>\n",
       "    </tr>\n",
       "    <tr>\n",
       "      <th>7</th>\n",
       "      <td>K-NN</td>\n",
       "      <td>Recall</td>\n",
       "      <td>0.81</td>\n",
       "    </tr>\n",
       "    <tr>\n",
       "      <th>8</th>\n",
       "      <td>K-NN</td>\n",
       "      <td>F1-Score</td>\n",
       "      <td>0.79</td>\n",
       "    </tr>\n",
       "    <tr>\n",
       "      <th>9</th>\n",
       "      <td>K-NN</td>\n",
       "      <td>Cross Validation Score</td>\n",
       "      <td>0.79</td>\n",
       "    </tr>\n",
       "    <tr>\n",
       "      <th>10</th>\n",
       "      <td>Logistic Regression</td>\n",
       "      <td>Accuracy</td>\n",
       "      <td>0.73</td>\n",
       "    </tr>\n",
       "    <tr>\n",
       "      <th>11</th>\n",
       "      <td>Logistic Regression</td>\n",
       "      <td>Precision</td>\n",
       "      <td>0.74</td>\n",
       "    </tr>\n",
       "    <tr>\n",
       "      <th>12</th>\n",
       "      <td>Logistic Regression</td>\n",
       "      <td>Recall</td>\n",
       "      <td>0.74</td>\n",
       "    </tr>\n",
       "    <tr>\n",
       "      <th>13</th>\n",
       "      <td>Logistic Regression</td>\n",
       "      <td>F1-Score</td>\n",
       "      <td>0.73</td>\n",
       "    </tr>\n",
       "    <tr>\n",
       "      <th>14</th>\n",
       "      <td>Logistic Regression</td>\n",
       "      <td>Cross Validation Score</td>\n",
       "      <td>0.73</td>\n",
       "    </tr>\n",
       "  </tbody>\n",
       "</table>\n",
       "</div>"
      ],
      "text/plain": [
       "           ML Algorithm                 Metrics  Values\n",
       "0          RandomForest                Accuracy    0.76\n",
       "1          RandomForest               Precision    0.76\n",
       "2          RandomForest                  Recall    0.77\n",
       "3          RandomForest                F1-Score    0.76\n",
       "4          RandomForest  Cross Validation Score    0.79\n",
       "5                  K-NN                Accuracy    0.80\n",
       "6                  K-NN               Precision    0.79\n",
       "7                  K-NN                  Recall    0.81\n",
       "8                  K-NN                F1-Score    0.79\n",
       "9                  K-NN  Cross Validation Score    0.79\n",
       "10  Logistic Regression                Accuracy    0.73\n",
       "11  Logistic Regression               Precision    0.74\n",
       "12  Logistic Regression                  Recall    0.74\n",
       "13  Logistic Regression                F1-Score    0.73\n",
       "14  Logistic Regression  Cross Validation Score    0.73"
      ]
     },
     "execution_count": 416,
     "metadata": {},
     "output_type": "execute_result"
    }
   ],
   "source": [
    "ScorecardDF=pd.read_csv('Scorecard1.csv')\n",
    "ScorecardDF"
   ]
  },
  {
   "cell_type": "code",
   "execution_count": 433,
   "metadata": {
    "ExecuteTime": {
     "end_time": "2021-03-09T19:39:07.983675Z",
     "start_time": "2021-03-09T19:39:07.740328Z"
    }
   },
   "outputs": [
    {
     "data": {
      "text/plain": [
       "<matplotlib.axes._subplots.AxesSubplot at 0x1826da92df0>"
      ]
     },
     "execution_count": 433,
     "metadata": {},
     "output_type": "execute_result"
    },
    {
     "data": {
      "image/png": "[encoded data removed]",
      "text/plain": [
       "<Figure size 720x432 with 1 Axes>"
      ]
     },
     "metadata": {
      "needs_background": "light"
     },
     "output_type": "display_data"
    }
   ],
   "source": [
    "import seaborn as sns\n",
    "\n",
    "plt.subplots(figsize=(10,6))\n",
    "sns.barplot(x=ScorecardDF['Metrics'], y=ScorecardDF['Values'],data=ScorecardDF,hue=ScorecardDF['ML Algorithm'],saturation=0.6)\n",
    "\n"
   ]
  },
  {
   "cell_type": "markdown",
   "metadata": {
    "ExecuteTime": {
     "end_time": "2021-03-09T15:06:16.307312Z",
     "start_time": "2021-03-09T15:06:16.303353Z"
    }
   },
   "source": [
    "### Since the K-NN rating prediction gives better scores than Logistic Regression Quality prediction as well as Random Forest Rating Prediction, we will go ahead\n",
    "### with the K-Nearest Neighbour rating prediction of Red Wine"
   ]
  }
 ],
 "metadata": {
  "kernelspec": {
   "display_name": "Python 3",
   "language": "python",
   "name": "python3"
  },
  "language_info": {
   "codemirror_mode": {
    "name": "ipython",
    "version": 3
   },
   "file_extension": ".py",
   "mimetype": "text/x-python",
   "name": "python",
   "nbconvert_exporter": "python",
   "pygments_lexer": "ipython3",
   "version": "3.8.3"
  }
 },
 "nbformat": 4,
 "nbformat_minor": 4
}
